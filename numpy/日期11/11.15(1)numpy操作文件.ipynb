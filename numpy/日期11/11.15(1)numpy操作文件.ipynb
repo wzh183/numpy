{
 "cells": [
  {
   "cell_type": "code",
   "execution_count": 1,
   "id": "c8d91724",
   "metadata": {},
   "outputs": [],
   "source": [
    "import numpy as np\n",
    "\"\"\"\n",
    "操作文件 loadtxt（\n",
    "    fname，  文件名\n",
    "    dtype=float_,   数据类型\n",
    "    conmments='#',  注释—列表\n",
    "    delimiter=None, 字符串分隔符\n",
    "    converters=None     字典\n",
    "    skiprows=0,     跳过特定行数据\n",
    "    usecols=None,   使用列\n",
    "    unpack=False,   是否转置\n",
    "    ndmin=0,    整数型\n",
    "    encoding='bytes',   编码格式\n",
    "    max_rows=None,\n",
    "    *,\n",
    "    like=None\n",
    "\"\"\"\n",
    "np.loastxt('')"
   ]
  },
  {
   "cell_type": "code",
   "execution_count": null,
   "id": "949e7965",
   "metadata": {},
   "outputs": [],
   "source": []
  }
 ],
 "metadata": {
  "kernelspec": {
   "display_name": "Python 3 (ipykernel)",
   "language": "python",
   "name": "python3"
  },
  "language_info": {
   "codemirror_mode": {
    "name": "ipython",
    "version": 3
   },
   "file_extension": ".py",
   "mimetype": "text/x-python",
   "name": "python",
   "nbconvert_exporter": "python",
   "pygments_lexer": "ipython3",
   "version": "3.9.12"
  }
 },
 "nbformat": 4,
 "nbformat_minor": 5
}
