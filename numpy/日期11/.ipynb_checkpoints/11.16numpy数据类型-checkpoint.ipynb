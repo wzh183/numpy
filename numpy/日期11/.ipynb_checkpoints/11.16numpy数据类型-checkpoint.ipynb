{
 "cells": [
  {
   "cell_type": "code",
   "execution_count": 1,
   "id": "bc83a573",
   "metadata": {},
   "outputs": [],
   "source": [
    "import numpy as np\n"
   ]
  },
  {
   "cell_type": "code",
   "execution_count": 15,
   "id": "469ba335",
   "metadata": {},
   "outputs": [
    {
     "name": "stdout",
     "output_type": "stream",
     "text": [
      "[1 2 3 4]\n",
      "[1. 2. 3. 4.]\n",
      "[ True  True  True  True]\n",
      "['0' '1' '2' '3' '4']\n",
      "[b'0' b'1' b'2' b'3' b'4']\n",
      "|S1\n",
      "['你好' '0' '1' '2' '3' '4']\n",
      "<U2\n"
     ]
    }
   ],
   "source": [
    "a = np.array([1, 2, 3, 4])\n",
    "print(a)\n",
    "# 浮点型 astype dtypee\n",
    "a = a.astype(dtype= 'float_')\n",
    "print(a)\n",
    "\n",
    "# 布尔型 \n",
    "c = np.array([1, 2, 3, 4], dtype=np.bool_)\n",
    "print(c)\n",
    "# 字符串\n",
    "d = np.array([0, 1, 2, 3, 4],dtype=np.str_)\n",
    "f = np.array([0, 1, 2, 3, 4],dtype=np.string_)\n",
    "print(d)\n",
    "print(f)\n",
    "print(f.dtype)\n",
    "str1 = np.array(['你好', 0, 1, 2, 3, 4], dtype=np.str_)\n",
    "print(str1)\n",
    "print(str1.dtype)"
   ]
  },
  {
   "cell_type": "markdown",
   "id": "f323ab62",
   "metadata": {},
   "source": [
    "# 数据类型\n",
    "\n",
    "| 名称   | 描述 | 名称   | 描述 |\n",
    "| ------    |:------ |------    |:------ |\n",
    "| bool_  | 布尔型数据类型（True 或者 False） |float_  | float64 类型的简写 |\n",
    "|int_   | 默认的整数类型（类似于 C 语言中的 long，int32 或 int64） |float16/32/64  | 半精度浮点数:1 个符号位，5 个指数位，10个尾数位<br/>单精度浮点数:1 个符号位，8 个指数位，23个尾数位<br/>双精度浮点数,包括：1 个符号位，11 个指数位，52个尾数位|\n",
    "| intc    | 和 C 语言的 int 类型一样，一般是 int32 或 int 64 |complex_  | 复数类型，与 complex128 类型相同 |\n",
    "| intp    | 用于索引的整数类型（类似于 C 的 ssize_t，通常为 int32 或 int64） |complex64/128  | 复数，表示双 32 位浮点数（实数部分和虚数部分）<br/>复数，表示双 64 位浮点数（实数部分和虚数部分） |\n",
    "| int8/16/32/64  |   代表与1字节相同的8位整数<br/>代表与2字节相同的16位整数<br/>代表与4字节相同的32位整数<br/>代表与8字节相同的64位整数 |str_  | 表示字符串类型 |\n",
    "| uint8/16/32/64  | 代表1字节（8位）无符号整数<br/>代表与2字节相同的16位整数<br/>代表与4字节相同的32位整数<br/>代表与8字节相同的64位整数 |string_  | 表示字节串类型,也就是bytes类型 |"
   ]
  },
  {
   "cell_type": "code",
   "execution_count": 21,
   "id": "1841957a",
   "metadata": {},
   "outputs": [
    {
     "name": "stdout",
     "output_type": "stream",
     "text": [
      "[('age', '<U2')]\n",
      "[('你们',) ('23',)]\n",
      "['你们' '23']\n",
      "数据类型 [('age', '<U2')]\n"
     ]
    }
   ],
   "source": [
    "# \n",
    "dt = np.dtype([('age', 'U2')])\n",
    "print(dt)\n",
    "obj = np.array([('你们'), 234], dtype = dt)\n",
    "print(obj)\n",
    "print(obj['age'])\n",
    "print('数据类型', obj.dtype)"
   ]
  },
  {
   "cell_type": "code",
   "execution_count": 30,
   "id": "638f6095",
   "metadata": {},
   "outputs": [
    {
     "name": "stdout",
     "output_type": "stream",
     "text": [
      "[('lyy', 18, 89.678) ('wzh', 18, 89.23 )]\n",
      "名字 ['lyy' 'wzh']\n",
      "年龄 [18 18]\n",
      "成绩 [89.678 89.23 ]\n"
     ]
    }
   ],
   "source": [
    "\"\"\"\n",
    "学生 三个特征 : 姓名, 年龄 成绩 定义结构化数据类型\n",
    "    str 字段 name\n",
    "    int 字段 age\n",
    "    flost 字段 score\n",
    "\"\"\"\n",
    "# 定义数据类型\n",
    "dt = np.dtype([('name', np.str_,3), ('age', 'i1'), ('score', 'f4')])\n",
    "stu = np.array([('lyy', 18, 89.678), ('wzh', 18, 89.23)], dtype=dt)\n",
    "print(stu)\n",
    "print('名字', stu['name'])\n",
    "print('年龄', stu['age'])\n",
    "print('成绩', stu['score'])"
   ]
  },
  {
   "cell_type": "code",
   "execution_count": 32,
   "id": "bc7daa3e",
   "metadata": {},
   "outputs": [
    {
     "ename": "SyntaxError",
     "evalue": "(unicode error) 'unicodeescape' codec can't decode bytes in position 2-3: truncated \\UXXXXXXXX escape (4141545455.py, line 2)",
     "output_type": "error",
     "traceback": [
      "\u001b[1;36m  Input \u001b[1;32mIn [32]\u001b[1;36m\u001b[0m\n\u001b[1;33m    data = np.loadtxt('C:\\Users\\18354\\Desktop\\python 爬虫学习\\日期类11\\wb.csv', dtype=np.str_, delimiter=',')\u001b[0m\n\u001b[1;37m                                                                       ^\u001b[0m\n\u001b[1;31mSyntaxError\u001b[0m\u001b[1;31m:\u001b[0m (unicode error) 'unicodeescape' codec can't decode bytes in position 2-3: truncated \\UXXXXXXXX escape\n"
     ]
    }
   ],
   "source": [
    "# 读取文件\n",
    "data = np.loadtxt('C:\\Users\\18354\\Desktop\\python 爬虫学习\\日期类11\\wb.csv', dtype=np.str_, delimiter=',')\n",
    "print(data)\n",
    "print(data.shape)"
   ]
  },
  {
   "cell_type": "code",
   "execution_count": null,
   "id": "c7d43bd3",
   "metadata": {},
   "outputs": [],
   "source": []
  }
 ],
 "metadata": {
  "kernelspec": {
   "display_name": "Python 3 (ipykernel)",
   "language": "python",
   "name": "python3"
  },
  "language_info": {
   "codemirror_mode": {
    "name": "ipython",
    "version": 3
   },
   "file_extension": ".py",
   "mimetype": "text/x-python",
   "name": "python",
   "nbconvert_exporter": "python",
   "pygments_lexer": "ipython3",
   "version": "3.9.12"
  }
 },
 "nbformat": 4,
 "nbformat_minor": 5
}
