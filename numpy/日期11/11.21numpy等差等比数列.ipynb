{
 "cells": [
  {
   "cell_type": "code",
   "execution_count": 1,
   "id": "63f90f3c",
   "metadata": {},
   "outputs": [],
   "source": [
    "import numpy as np\n"
   ]
  },
  {
   "cell_type": "code",
   "execution_count": 3,
   "id": "18efc8df",
   "metadata": {},
   "outputs": [
    {
     "name": "stdout",
     "output_type": "stream",
     "text": [
      "[ 1.    3.25  5.5   7.75 10.  ]\n"
     ]
    }
   ],
   "source": [
    "# 等差数列\n",
    "a = np.linspace(1,10,5)\n",
    "print(a)"
   ]
  },
  {
   "cell_type": "code",
   "execution_count": 7,
   "id": "a3c338f1",
   "metadata": {},
   "outputs": [
    {
     "name": "stdout",
     "output_type": "stream",
     "text": [
      "[ 10.          12.91549665  16.68100537  21.5443469   27.82559402\n",
      "  35.93813664  46.41588834  59.94842503  77.42636827 100.        ]\n",
      "[2. 4. 8.]\n",
      "1\n"
     ]
    }
   ],
   "source": [
    "\"\"\"\n",
    "np.logspace(\n",
    "    start,  开始值\n",
    "    stop,   结束值\n",
    "    num=50,  生成几个数\n",
    "    endpoint=True,  是否包含结束值(默认包含)\n",
    "    base=10.0,  log的底数\n",
    "    dtype=None,  数据类型\n",
    "    axis=0,\n",
    ")\n",
    "\"\"\"\n",
    "# 等比数列\n",
    "a = np.logspace(1,2,10)   # 10 的1次方到10的2次方之间生成10个数\n",
    "print(a)\n",
    "b = np.logspace(1,3,3,base=2)\n",
    "print(b)\n",
    "print(b.ndim)  # 一维数组的秩是1,二唯数组的秩是2,三维数组的秩是3s\n"
   ]
  },
  {
   "cell_type": "code",
   "execution_count": null,
   "id": "bb1f068c",
   "metadata": {},
   "outputs": [],
   "source": []
  }
 ],
 "metadata": {
  "kernelspec": {
   "display_name": "Python 3 (ipykernel)",
   "language": "python",
   "name": "python3"
  },
  "language_info": {
   "codemirror_mode": {
    "name": "ipython",
    "version": 3
   },
   "file_extension": ".py",
   "mimetype": "text/x-python",
   "name": "python",
   "nbconvert_exporter": "python",
   "pygments_lexer": "ipython3",
   "version": "3.9.12"
  }
 },
 "nbformat": 4,
 "nbformat_minor": 5
}
