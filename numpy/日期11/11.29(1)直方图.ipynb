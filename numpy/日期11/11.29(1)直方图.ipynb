{
 "cells": [
  {
   "cell_type": "code",
   "execution_count": 28,
   "id": "16b9b51b",
   "metadata": {},
   "outputs": [],
   "source": [
    "from matplotlib import pylab as plt\n",
    "import numpy as np"
   ]
  },
  {
   "cell_type": "code",
   "execution_count": 2,
   "id": "bded0866",
   "metadata": {},
   "outputs": [],
   "source": [
    "plt.rcParams['font.sans-serif']=['SimHei']\n",
    "plt.rcParams['axes.unicode_minus']=False\n",
    "plt.rcParams['figure.dpi']=100\n",
    "plt.rcParams['figure.figsize'] = (5,3)"
   ]
  },
  {
   "cell_type": "code",
   "execution_count": 19,
   "id": "c567281c",
   "metadata": {},
   "outputs": [
    {
     "ename": "TypeError",
     "evalue": "'numpy.ndarray' object is not callable",
     "output_type": "error",
     "traceback": [
      "\u001b[1;31m---------------------------------------------------------------------------\u001b[0m",
      "\u001b[1;31mTypeError\u001b[0m                                 Traceback (most recent call last)",
      "Input \u001b[1;32mIn [19]\u001b[0m, in \u001b[0;36m<cell line: 9>\u001b[1;34m()\u001b[0m\n\u001b[0;32m      7\u001b[0m plt\u001b[38;5;241m.\u001b[39mxlabel(\u001b[38;5;124m'\u001b[39m\u001b[38;5;124m身高\u001b[39m\u001b[38;5;124m'\u001b[39m)\n\u001b[0;32m      8\u001b[0m plt\u001b[38;5;241m.\u001b[39mylabel(\u001b[38;5;124m'\u001b[39m\u001b[38;5;124m比率\u001b[39m\u001b[38;5;124m'\u001b[39m)\n\u001b[1;32m----> 9\u001b[0m \u001b[43mplt\u001b[49m\u001b[38;5;241;43m.\u001b[39;49m\u001b[43mxticks\u001b[49m\u001b[43m(\u001b[49m\u001b[43mbins_limit\u001b[49m\u001b[43m)\u001b[49m\n",
      "\u001b[1;31mTypeError\u001b[0m: 'numpy.ndarray' object is not callable"
     ]
    },
    {
     "data": {
      "image/png": "[encoded data removed]",
      "text/plain": [
       "<Figure size 500x300 with 1 Axes>"
      ]
     },
     "metadata": {
      "needs_background": "light"
     },
     "output_type": "display_data"
    }
   ],
   "source": [
    "# 直方图\n",
    "# 使用nump随机生成300个随机数字\n",
    "# x_value = np.random.randint(140,180,300)\n",
    "# plt.xticks = bins_limit\n",
    "# num,bins_limit,patches = plt.hist(x_value,bins=10,edgecolor='pink')\n",
    "# plt.title('数据统计')\n",
    "# plt.xlabel('身高')\n",
    "# plt.ylabel('比率')\n",
    "# plt.xticks(bins_limit)\n",
    "# print(num)\n",
    "# print(bins_limit)\n",
    "# print(patches)\n",
    "# for i in patches:\n",
    "#     print(i)"
   ]
  },
  {
   "cell_type": "code",
   "execution_count": 34,
   "id": "52abf00f",
   "metadata": {},
   "outputs": [
    {
     "name": "stdout",
     "output_type": "stream",
     "text": [
      "num 是分组区间对应的频率 [29. 25. 27. 35. 25. 24. 23. 41. 38. 33.]\n",
      "bins_limit 是分组时的分隔值 [160.  162.9 165.8 168.7 171.6 174.5 177.4 180.3 183.2 186.1 189. ]\n",
      "patches 是直方图的列表对象 <class 'matplotlib.container.BarContainer'>\n",
      "Rectangle(xy=(160, 0), width=2.9, height=29, angle=0)\n",
      "Rectangle(xy=(162.9, 0), width=2.9, height=25, angle=0)\n",
      "Rectangle(xy=(165.8, 0), width=2.9, height=27, angle=0)\n",
      "Rectangle(xy=(168.7, 0), width=2.9, height=35, angle=0)\n",
      "Rectangle(xy=(171.6, 0), width=2.9, height=25, angle=0)\n",
      "Rectangle(xy=(174.5, 0), width=2.9, height=24, angle=0)\n",
      "Rectangle(xy=(177.4, 0), width=2.9, height=23, angle=0)\n",
      "Rectangle(xy=(180.3, 0), width=2.9, height=41, angle=0)\n",
      "Rectangle(xy=(183.2, 0), width=2.9, height=38, angle=0)\n",
      "Rectangle(xy=(186.1, 0), width=2.9, height=33, angle=0)\n"
     ]
    },
    {
     "ename": "TypeError",
     "evalue": "'numpy.ndarray' object is not callable",
     "output_type": "error",
     "traceback": [
      "\u001b[1;31m---------------------------------------------------------------------------\u001b[0m",
      "\u001b[1;31mTypeError\u001b[0m                                 Traceback (most recent call last)",
      "Input \u001b[1;32mIn [34]\u001b[0m, in \u001b[0;36m<cell line: 12>\u001b[1;34m()\u001b[0m\n\u001b[0;32m     10\u001b[0m \u001b[38;5;28;01mfor\u001b[39;00m i \u001b[38;5;129;01min\u001b[39;00m patches:\n\u001b[0;32m     11\u001b[0m     \u001b[38;5;28mprint\u001b[39m(i)\n\u001b[1;32m---> 12\u001b[0m \u001b[43mplt\u001b[49m\u001b[38;5;241;43m.\u001b[39;49m\u001b[43mxticks\u001b[49m\u001b[43m(\u001b[49m\u001b[43mli\u001b[49m\u001b[43m,\u001b[49m\u001b[43mrotation\u001b[49m\u001b[38;5;241;43m=\u001b[39;49m\u001b[38;5;241;43m45\u001b[39;49m\u001b[43m)\u001b[49m\n",
      "\u001b[1;31mTypeError\u001b[0m: 'numpy.ndarray' object is not callable"
     ]
    },
    {
     "data": {
      "image/png": "[encoded data removed]",
      "text/plain": [
       "<Figure size 500x300 with 1 Axes>"
      ]
     },
     "metadata": {
      "needs_background": "light"
     },
     "output_type": "display_data"
    }
   ],
   "source": [
    "x = np.random.randint(160,190,300)\n",
    "# 添加图名\n",
    "plt.title('身高图')\n",
    "plt.xlabel('身高')\n",
    "# 绘制直方图  ------有返回值(3个)\n",
    "num,li,patches = plt.hist(x,bins=10,edgecolor='white')\n",
    "print('num 是分组区间对应的频率',num)\n",
    "print('bins_limit 是分组时的分隔值',bins_limit)\n",
    "print('patches 是直方图的列表对象',type(patches))\n",
    "for i in patches:\n",
    "    print(i)\n",
    "plt.xticks(li,rotation=45)"
   ]
  },
  {
   "cell_type": "code",
   "execution_count": 37,
   "id": "47b92d57",
   "metadata": {},
   "outputs": [
    {
     "ename": "TypeError",
     "evalue": "'numpy.ndarray' object is not callable",
     "output_type": "error",
     "traceback": [
      "\u001b[1;31m---------------------------------------------------------------------------\u001b[0m",
      "\u001b[1;31mTypeError\u001b[0m                                 Traceback (most recent call last)",
      "Input \u001b[1;32mIn [37]\u001b[0m, in \u001b[0;36m<cell line: 6>\u001b[1;34m()\u001b[0m\n\u001b[0;32m      4\u001b[0m fig,ax \u001b[38;5;241m=\u001b[39m plt\u001b[38;5;241m.\u001b[39msubplots()\n\u001b[0;32m      5\u001b[0m num,bins_limit,pathches \u001b[38;5;241m=\u001b[39m plt\u001b[38;5;241m.\u001b[39mhist(x_value,bins\u001b[38;5;241m=\u001b[39m\u001b[38;5;241m10\u001b[39m,edgecolor\u001b[38;5;241m=\u001b[39m\u001b[38;5;124m'\u001b[39m\u001b[38;5;124mr\u001b[39m\u001b[38;5;124m'\u001b[39m)\n\u001b[1;32m----> 6\u001b[0m \u001b[43mplt\u001b[49m\u001b[38;5;241;43m.\u001b[39;49m\u001b[43mxticks\u001b[49m\u001b[43m(\u001b[49m\u001b[43mbins_limit\u001b[49m\u001b[43m,\u001b[49m\u001b[43mrotation\u001b[49m\u001b[38;5;241;43m=\u001b[39;49m\u001b[38;5;241;43m45\u001b[39;49m\u001b[43m)\u001b[49m\n\u001b[0;32m      7\u001b[0m \u001b[38;5;28mprint\u001b[39m(num)\n\u001b[0;32m      8\u001b[0m \u001b[38;5;66;03m# num 的数量是10,bins_limit 是11,需要截取\u001b[39;00m\n",
      "\u001b[1;31mTypeError\u001b[0m: 'numpy.ndarray' object is not callable"
     ]
    },
    {
     "data": {
      "image/png": "[encoded data removed]",
      "text/plain": [
       "<Figure size 500x300 with 1 Axes>"
      ]
     },
     "metadata": {
      "needs_background": "light"
     },
     "output_type": "display_data"
    }
   ],
   "source": [
    "x_vallue = np.random .randint(140,180,300)\n",
    "\n",
    "# 创建画布\n",
    "fig,ax = plt.subplots()\n",
    "num,bins_limit,pathches = plt.hist(x_value,bins=10,edgecolor='r')\n",
    "plt.xticks(bins_limit,rotation=45)\n",
    "print(num)\n",
    "# num 的数量是10,bins_limit 是11,需要截取\n",
    "print(bins_limit[:-1])\n",
    "# 曲线图\n",
    "ax.plot(bins_limit[:10])"
   ]
  },
  {
   "cell_type": "code",
   "execution_count": null,
   "id": "c8e0fe9d",
   "metadata": {},
   "outputs": [],
   "source": []
  }
 ],
 "metadata": {
  "kernelspec": {
   "display_name": "Python 3 (ipykernel)",
   "language": "python",
   "name": "python3"
  },
  "language_info": {
   "codemirror_mode": {
    "name": "ipython",
    "version": 3
   },
   "file_extension": ".py",
   "mimetype": "text/x-python",
   "name": "python",
   "nbconvert_exporter": "python",
   "pygments_lexer": "ipython3",
   "version": "3.9.12"
  }
 },
 "nbformat": 4,
 "nbformat_minor": 5
}
