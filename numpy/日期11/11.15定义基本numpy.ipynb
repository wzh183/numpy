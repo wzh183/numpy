{
 "cells": [
  {
   "cell_type": "code",
   "execution_count": 24,
   "id": "981052e4",
   "metadata": {},
   "outputs": [
    {
     "name": "stdout",
     "output_type": "stream",
     "text": [
      "(4, 5)\n",
      "(5, 6)\n"
     ]
    }
   ],
   "source": [
    "import numpy as np\n",
    "\n",
    "# 作业一\n",
    "a = np.arange(20).reshape((4, 5))\n",
    "print(a.shape)\n",
    "b = np.resize(np.arange(20), (5, 6))\n",
    "print(b.shape)"
   ]
  },
  {
   "cell_type": "code",
   "execution_count": 55,
   "id": "a0963617",
   "metadata": {},
   "outputs": [
    {
     "name": "stdout",
     "output_type": "stream",
     "text": [
      "(4, 4)\n",
      "[['0' '1' '2' '3']\n",
      " ['4' '5' '6' '7']\n",
      " ['8' '9' '10' '11']\n",
      " ['12' '13' '14' '15']]\n"
     ]
    }
   ],
   "source": [
    "# 作业二\n",
    "a = np.arange(16).reshape((4, 4))\n",
    "print(a.shape)\n",
    "b = a.astype('str_')\n",
    "print(b)"
   ]
  },
  {
   "cell_type": "code",
   "execution_count": null,
   "id": "f9529999",
   "metadata": {},
   "outputs": [],
   "source": [
    "# 作业三\n",
    "# (1.)\n",
    "x = np.array([[0, 1, 2], [3, 4, 5], [6, 7, 8], [9, 10, 11]])\n",
    "print(x.shape)\n",
    "c = []\n",
    "for a in x:\n",
    "    for b in a:\n",
    "        if b % 2 == 1:\n",
    "            c.append(b)\n",
    "            b = -1\n",
    "        else:\n",
    "            print(b, \"偶\")\n",
    "print(\"奇数\", c)\n",
    "print(x[x%2==1])\n",
    "(2.)\n",
    "c = []\n",
    "for a in x:\n",
    "    for b in a:\n",
    "        if b % 2 == 1:\n",
    "            b = -1\n",
    "        c.append(b)\n",
    "\n",
    "# print(c)\n",
    "d = np.array(c).reshape(4, 3)\n",
    "print(d)"
   ]
  },
  {
   "cell_type": "code",
   "execution_count": null,
   "id": "8ae9bf70",
   "metadata": {},
   "outputs": [],
   "source": [
    "# 作业四\n",
    "(1.)\n",
    "ar = np.arange(25).reshape(5, 5)\n",
    "print(ar.shape)\n",
    "print(\"ar[4]:\")\n",
    "print(ar[4])\n",
    "print(\"ar[:2,3:]:\")\n",
    "print(ar[:2,3:])\n",
    "print(\"ar[3][2]:\")\n",
    "print(ar[3][2])"
   ]
  },
  {
   "cell_type": "code",
   "execution_count": 52,
   "id": "818f818f",
   "metadata": {},
   "outputs": [
    {
     "name": "stdout",
     "output_type": "stream",
     "text": [
      "0\n",
      "1\n",
      "2\n",
      "3\n",
      "4\n",
      "5\n",
      "6\n",
      "7\n",
      "8\n",
      "9\n"
     ]
    }
   ],
   "source": [
    "(2.)\n",
    "ar = np.arange(10).reshape(2, 5)\n",
    "\n",
    "for a in ar:\n",
    "    for b in a:\n",
    "        print(b)\n",
    "        "
   ]
  },
  {
   "cell_type": "code",
   "execution_count": null,
   "id": "e64f3e22",
   "metadata": {},
   "outputs": [],
   "source": []
  }
 ],
 "metadata": {
  "kernelspec": {
   "display_name": "Python 3 (ipykernel)",
   "language": "python",
   "name": "python3"
  },
  "language_info": {
   "codemirror_mode": {
    "name": "ipython",
    "version": 3
   },
   "file_extension": ".py",
   "mimetype": "text/x-python",
   "name": "python",
   "nbconvert_exporter": "python",
   "pygments_lexer": "ipython3",
   "version": "3.9.12"
  }
 },
 "nbformat": 4,
 "nbformat_minor": 5
}
