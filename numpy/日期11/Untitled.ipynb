{
 "cells": [
  {
   "cell_type": "code",
   "execution_count": 1,
   "id": "0b591aea",
   "metadata": {},
   "outputs": [
    {
     "name": "stdout",
     "output_type": "stream",
     "text": [
      "{'星期': '今天', '最高温度': '5', '最低温度': '-4', '月份': '12/15'}\n",
      "{'星期': '星期五', '最高温度': '3', '最低温度': '-4', '月份': '12/16'}\n",
      "{'星期': '星期六', '最高温度': '1', '最低温度': '-3', '月份': '12/17'}\n",
      "{'星期': '星期日', '最高温度': '8', '最低温度': '-4', '月份': '12/18'}\n",
      "{'星期': '星期一', '最高温度': '7', '最低温度': '-2', '月份': '12/19'}\n",
      "目前的温度是1.0℃,建议你穿棉袄或羽绒服\n",
      "请输入任何信息结束1\n"
     ]
    },
    {
     "data": {
      "text/plain": [
       "'1'"
      ]
     },
     "execution_count": 1,
     "metadata": {},
     "output_type": "execute_result"
    }
   ],
   "source": [
    "import requests\n",
    "import json\n",
    "\n",
    "url = 'http://d1.weather.com.cn/weather_index/101180101.html?_=1668664897124'\n",
    "header = {\n",
    "    \"user-agent\": \"Mozilla/5.0 (Windows NT 10.0; Win64; x64) AppleWebKit/537.36 (KHTML, like Gecko) Chrome/105.0.0.0 Safari/537.36\",\n",
    "    \"Accep\": \"*/*\",\n",
    "    \"Accept-Encoding\": \"gzip, deflate\",\n",
    "    \"Accept-Language\": \"zh-CN,zh;q=0.9,en;q=0.8\",\n",
    "    \"Connection\": \"keep-alive\",\n",
    "    \"Cookie\": \"Hm_lvt_080dabacb001ad3dc8b9b9049b36d43b=1668664880; f_city=%E9%83%91%E5%B7%9E%7C101180101%7C; Hm_lpvt_080dabacb001ad3dc8b9b9049b36d43b=1668664897\",\n",
    "    \"Host\": \"d1.weather.com.cn\",\n",
    "    \"Referer\": \"http://www.weather.com.cn/\"\n",
    "\n",
    "}\n",
    "response = requests.get(url, headers=header)\n",
    "response.encoding = 'utf-8'\n",
    "a = response.text\n",
    "weather = a.split('var fc =')[1].split(']')[0]\n",
    "weather = weather + \"]}\"\n",
    "js = json.loads(weather)\n",
    "b = js['f']\n",
    "for i in b:\n",
    "    dic = {}\n",
    "    # \"{'fa': '00', 'fb': '01', 'fc': '18', 'fd': '7', 'fe': '西北风', 'ff': '东南风', 'fg': '<3级', 'fh': '<3级', 'fk': '7', 'fl': '3', 'fm': '88.5', 'fn': '49.8', 'fi': '11/19', 'fj': '星期六'}\"\n",
    "    dic['星期'] = i['fj']\n",
    "    dic['最高温度'] = i['fc']\n",
    "    dic['最低温度'] = i['fd']\n",
    "    dic['月份'] = i['fi']\n",
    "    print(dic)\n",
    "    # print(i)\n",
    "weather = a.split(':\"101180101\",\"temp\":\"')[1].split('\",')[0]\n",
    "weather = float(weather)\n",
    "# weather = float(input('请输入今天的天气温度:'))\n",
    "if weather >= 30:\n",
    "    print(f'目前的温度是{weather}℃,建议你穿短袖')\n",
    "elif 30 > weather >= 20:\n",
    "    print(f'目前的温度是{weather}℃,建议你穿长袖')\n",
    "elif 20 > weather >= 10:\n",
    "    print(f'目前的温度是{weather}℃,建议你穿厚外套')\n",
    "elif 0 <= weather < 10:\n",
    "    print(f'目前的温度是{weather}℃,建议你穿棉袄或羽绒服')\n",
    "else:\n",
    "    print(f'今天的温度是{weather}℃,太冷了建议你不要出门')\n",
    "input(\"请输入任何信息结束\")\n"
   ]
  },
  {
   "cell_type": "code",
   "execution_count": null,
   "id": "4a051510",
   "metadata": {},
   "outputs": [],
   "source": []
  }
 ],
 "metadata": {
  "kernelspec": {
   "display_name": "Python 3 (ipykernel)",
   "language": "python",
   "name": "python3"
  },
  "language_info": {
   "codemirror_mode": {
    "name": "ipython",
    "version": 3
   },
   "file_extension": ".py",
   "mimetype": "text/x-python",
   "name": "python",
   "nbconvert_exporter": "python",
   "pygments_lexer": "ipython3",
   "version": "3.9.12"
  }
 },
 "nbformat": 4,
 "nbformat_minor": 5
}
