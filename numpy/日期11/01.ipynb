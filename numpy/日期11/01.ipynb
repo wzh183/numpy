{
 "cells": [
  {
   "cell_type": "code",
   "execution_count": 4,
   "id": "da91a3c3",
   "metadata": {},
   "outputs": [
    {
     "name": "stdout",
     "output_type": "stream",
     "text": [
      "1.21.5\n",
      "1.21.5\n"
     ]
    }
   ],
   "source": [
    "import numpy as np\n",
    "print(np.__version__)\n",
    "from matplotlib import pylab as plt\n",
    "print(plt.__version__)"
   ]
  },
  {
   "cell_type": "code",
   "execution_count": 24,
   "id": "84ec1b33",
   "metadata": {},
   "outputs": [
    {
     "name": "stdout",
     "output_type": "stream",
     "text": [
      "[[ 1  2  3  4]\n",
      " [ 5  6  7  8]\n",
      " [ 9 10 11 12]]\n",
      "[[ 2]\n",
      " [ 6]\n",
      " [10]]\n"
     ]
    }
   ],
   "source": [
    "b = np.array([[1,2,3,4],[5,6,7,8],[9,10,11,12]])\n",
    "print(b)\n",
    "# print(type(b))\n",
    "# print(b.shape)  # 打印形状\n",
    "# print(b[:][:])\n",
    "# print(b[0:][:-1])\n",
    "# print(b[1,:])\n",
    "print(b[:,np.newaxis,1])  # 获取列的原本形状"
   ]
  },
  {
   "cell_type": "code",
   "execution_count": 30,
   "id": "5a90c09f",
   "metadata": {},
   "outputs": [
    {
     "name": "stdout",
     "output_type": "stream",
     "text": [
      "[[1 2 3 4 5 6]\n",
      " [3 4 5 6 7 8]]\n",
      "(2, 6)\n",
      "3\n"
     ]
    }
   ],
   "source": [
    "c = np.array([[1,2,3,4,5,6],[3,4,5,6,7,8]])\n",
    "print(c)\n",
    "print(c.shape)\n",
    "print(c[1][0])"
   ]
  },
  {
   "cell_type": "code",
   "execution_count": 4,
   "id": "a9a321f8",
   "metadata": {},
   "outputs": [
    {
     "name": "stdout",
     "output_type": "stream",
     "text": [
      "方差 1.25\n",
      "标准差 1.118033988749895\n"
     ]
    }
   ],
   "source": [
    "# 方差\n",
    "b = np.array([1,2,3,4])\n",
    "print('方差', np.var(b))\n",
    "print('标准差', np.std(b))"
   ]
  },
  {
   "cell_type": "code",
   "execution_count": 7,
   "id": "77328a77",
   "metadata": {},
   "outputs": [
    {
     "name": "stdout",
     "output_type": "stream",
     "text": [
      "加权平均值 33.333333333333336\n"
     ]
    }
   ],
   "source": [
    "# 加权平均值\n",
    "c = np.array([20,30,50])\n",
    "# 加权平均值\n",
    "print(\"加权平均值\", np.average(c))"
   ]
  },
  {
   "cell_type": "code",
   "execution_count": 14,
   "id": "24f0755e",
   "metadata": {},
   "outputs": [
    {
     "name": "stdout",
     "output_type": "stream",
     "text": [
      "小明的加权平均值 90.5\n",
      "小刚的加权平均值 86.0\n",
      "小明综合成绩好\n"
     ]
    }
   ],
   "source": [
    "ming = np.array([80,90,95])\n",
    "gang = np.array([95,90,80])\n",
    "ming_av = np.average(ming, weights=[0.2,0.3,0.5])\n",
    "gang_av = np.average(gang, weights=[0.2,0.3,0.5])\n",
    "print(\"小明的加权平均值\",ming_av)\n",
    "print(\"小刚的加权平均值\",gang_av)\n",
    "if ming_av > gang_av:\n",
    "    print(\"小明综合成绩好\")\n",
    "else:\n",
    "    print(\"小刚综合成绩好\")"
   ]
  },
  {
   "cell_type": "code",
   "execution_count": 16,
   "id": "3ec7a436",
   "metadata": {},
   "outputs": [
    {
     "name": "stdout",
     "output_type": "stream",
     "text": [
      "[[1 2]\n",
      " [3 4]]\n",
      "[[11 12]\n",
      " [13 14]]\n",
      "[[37 40]\n",
      " [85 92]]\n"
     ]
    }
   ],
   "source": [
    "a = np.array([[1,2],[3,4]])\n",
    "b = np.array([[11,12],[13,14]])\n",
    "print(a)\n",
    "print(b)\n",
    "print(\"数组点积\", np.dot(a,b))"
   ]
  },
  {
   "cell_type": "code",
   "execution_count": 17,
   "id": "c1d26b1c",
   "metadata": {},
   "outputs": [
    {
     "name": "stdout",
     "output_type": "stream",
     "text": [
      "[[1 2]\n",
      " [3 4]]\n",
      "[[11 12]\n",
      " [13 14]]\n",
      "向量的点积 130\n"
     ]
    }
   ],
   "source": [
    "# 向量点积\n",
    "\n",
    "a = np.array([[1,2],[3,4]])\n",
    "b = np.array([[11,12],[13,14]])\n",
    "print(a)\n",
    "print(b)\n",
    "# 1乘以11加2乘以12加3乘以13加4乘以14。\n",
    "print(\"向量的点积\", np.vdot(a,b))\n",
    "\n"
   ]
  },
  {
   "cell_type": "code",
   "execution_count": 19,
   "id": "b24b18ea",
   "metadata": {},
   "outputs": [
    {
     "name": "stdout",
     "output_type": "stream",
     "text": [
      "向量内积 2\n",
      "向量内积 [[35 41]\n",
      " [81 95]]\n"
     ]
    }
   ],
   "source": [
    "# 向量内积\n",
    "a = np.array([1, 2, 3])\n",
    "b = np.array([0, 1, 0])\n",
    "print(\"向量内积\",np.inner(a,b))\n",
    "\n",
    "c = np.array([[1,2],[3,4]])\n",
    "d = np.array([[11,12],[13,14]])\n",
    "print(\"向量内积\",np.inner(c,d))\n",
    "\"\"\"\n",
    "1乘以11 2乘以12。1乘以13 2乘以14。\n",
    "3乘以11 4乘以12。4乘以13 4乘以14。\n",
    "\"\"\""
   ]
  },
  {
   "cell_type": "code",
   "execution_count": 20,
   "id": "ae739f5e",
   "metadata": {},
   "outputs": [
    {
     "name": "stdout",
     "output_type": "stream",
     "text": [
      "[[4 1]\n",
      " [2 2]]\n"
     ]
    }
   ],
   "source": [
    "# 矩阵乘积\n",
    "a = np.array([[1, 0],[0, 1]])\n",
    "b = np.array([[4, 1],[2,2]])\n",
    "print(np.matmul(a,b))"
   ]
  },
  {
   "cell_type": "code",
   "execution_count": 1,
   "id": "ab8c33fe",
   "metadata": {},
   "outputs": [
    {
     "name": "stdout",
     "output_type": "stream",
     "text": [
      "C:\\Users\\18354\\Match\n"
     ]
    }
   ],
   "source": [
    "import os \n",
    "print(os.path.abspath('.'))"
   ]
  },
  {
   "cell_type": "code",
   "execution_count": null,
   "id": "8eb06446",
   "metadata": {},
   "outputs": [],
   "source": []
  }
 ],
 "metadata": {
  "kernelspec": {
   "display_name": "Python 3 (ipykernel)",
   "language": "python",
   "name": "python3"
  },
  "language_info": {
   "codemirror_mode": {
    "name": "ipython",
    "version": 3
   },
   "file_extension": ".py",
   "mimetype": "text/x-python",
   "name": "python",
   "nbconvert_exporter": "python",
   "pygments_lexer": "ipython3",
   "version": "3.9.12"
  }
 },
 "nbformat": 4,
 "nbformat_minor": 5
}
