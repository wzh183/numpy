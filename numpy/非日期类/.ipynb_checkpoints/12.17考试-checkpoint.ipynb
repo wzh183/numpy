{
 "cells": [
  {
   "cell_type": "code",
   "execution_count": 42,
   "id": "59e7a234",
   "metadata": {},
   "outputs": [],
   "source": [
    "import numpy as np\n",
    "import pandas as pd\n",
    "import datetime as dt\n",
    "from matplotlib import pyplot as plt\n",
    "4"
   ]
  },
  {
   "cell_type": "code",
   "execution_count": 8,
   "id": "9d3f650d",
   "metadata": {},
   "outputs": [
    {
     "data": {
      "text/plain": [
       "(2, 3, 2, 2)"
      ]
     },
     "execution_count": 8,
     "metadata": {},
     "output_type": "execute_result"
    }
   ],
   "source": [
    "n = np.arange(24).reshape(2,-1,2,2)\n",
    "n.shape"
   ]
  },
  {
   "cell_type": "code",
   "execution_count": 15,
   "id": "f5f0a7d5",
   "metadata": {},
   "outputs": [
    {
     "ename": "AttributeError",
     "evalue": "module 'datetime' has no attribute 'Strftime'",
     "output_type": "error",
     "traceback": [
      "\u001b[1;31m---------------------------------------------------------------------------\u001b[0m",
      "\u001b[1;31mAttributeError\u001b[0m                            Traceback (most recent call last)",
      "Input \u001b[1;32mIn [15]\u001b[0m, in \u001b[0;36m<cell line: 2>\u001b[1;34m()\u001b[0m\n\u001b[0;32m      1\u001b[0m asDt \u001b[38;5;241m=\u001b[39m dt\u001b[38;5;241m.\u001b[39mdatetime(\u001b[38;5;241m2018\u001b[39m,\u001b[38;5;241m10\u001b[39m,\u001b[38;5;241m1\u001b[39m,\u001b[38;5;241m20\u001b[39m,\u001b[38;5;241m3\u001b[39m,\u001b[38;5;241m50\u001b[39m)\n\u001b[1;32m----> 2\u001b[0m aStr \u001b[38;5;241m=\u001b[39m \u001b[43mdt\u001b[49m\u001b[38;5;241;43m.\u001b[39;49m\u001b[43mStrftime\u001b[49m(\u001b[38;5;124m\"\u001b[39m\u001b[38;5;124m%\u001b[39m\u001b[38;5;124mY/\u001b[39m\u001b[38;5;124m%\u001b[39m\u001b[38;5;124mm\u001b[39m\u001b[38;5;132;01m%d\u001b[39;00m\u001b[38;5;124m\"\u001b[39m)\n\u001b[0;32m      3\u001b[0m \u001b[38;5;28mprint\u001b[39m(aStr)\n",
      "\u001b[1;31mAttributeError\u001b[0m: module 'datetime' has no attribute 'Strftime'"
     ]
    }
   ],
   "source": [
    "asDt = dt.datetime(2018,10,1,20,3,50)\n",
    "aStr = dt.Strftime(\"%Y/%m%d\")\n",
    "print(aStr)"
   ]
  },
  {
   "cell_type": "code",
   "execution_count": 36,
   "id": "c83af659",
   "metadata": {},
   "outputs": [
    {
     "data": {
      "text/plain": [
       "RangeIndex(start=0, stop=3, step=1)"
      ]
     },
     "execution_count": 36,
     "metadata": {},
     "output_type": "execute_result"
    }
   ],
   "source": [
    "a = pd.Series([1,2,3])\n",
    "a.index"
   ]
  },
  {
   "cell_type": "code",
   "execution_count": 17,
   "id": "b5942b87",
   "metadata": {},
   "outputs": [
    {
     "name": "stdout",
     "output_type": "stream",
     "text": [
      "[2 3 4 5]\n",
      "[1 2 3 4 5]\n"
     ]
    }
   ],
   "source": [
    "\n",
    "ser =pd.Series(np.arange(1,6),index=[\"a\",\"b\",\"c\",\"d\",\"e\"])\n",
    "s1 = ser.drop(\"a\")\n",
    "print(s1.values)\n",
    "print(ser.values)"
   ]
  },
  {
   "cell_type": "code",
   "execution_count": 19,
   "id": "2071cc99",
   "metadata": {},
   "outputs": [
    {
     "name": "stdout",
     "output_type": "stream",
     "text": [
      "50\n",
      "[3, 4, 6, 7, 8]\n"
     ]
    }
   ],
   "source": [
    "import pandas as pd\n",
    "aList =[3,4,6,7,8]\n",
    "ser=pd.Series(aList)\n",
    "ser[2] =50\n",
    "print(ser[2])\n",
    "print(aList)"
   ]
  },
  {
   "cell_type": "code",
   "execution_count": 20,
   "id": "8fda7ec0",
   "metadata": {},
   "outputs": [
    {
     "name": "stdout",
     "output_type": "stream",
     "text": [
      "姓名:保罗\t年龄:29岁\t性别:男\n"
     ]
    }
   ],
   "source": [
    "strFormat =\"姓名:%s\\t年龄:%d岁\\t性别:%s\"\n",
    "print(strFormat%(\"保罗\",29,\"男\"))"
   ]
  },
  {
   "cell_type": "code",
   "execution_count": 21,
   "id": "64068bea",
   "metadata": {},
   "outputs": [
    {
     "name": "stdout",
     "output_type": "stream",
     "text": [
      "['h', 'e', 'l', 'l', 'o', ' ', 'w']\n"
     ]
    }
   ],
   "source": [
    "aStr=\"hello world\"\n",
    "aList =list(aStr[0:7])\n",
    "print(aList)"
   ]
  },
  {
   "cell_type": "code",
   "execution_count": 23,
   "id": "4e37e58a",
   "metadata": {},
   "outputs": [
    {
     "name": "stdout",
     "output_type": "stream",
     "text": [
      "(2, 4)\n"
     ]
    }
   ],
   "source": [
    "a= np.array([[1,2,3,4],[4,5,6,7]])\n",
    "print(a.shape)"
   ]
  },
  {
   "cell_type": "code",
   "execution_count": 24,
   "id": "f902337b",
   "metadata": {},
   "outputs": [
    {
     "name": "stdout",
     "output_type": "stream",
     "text": [
      "[1, 3, 5, 9]\n"
     ]
    }
   ],
   "source": [
    "aList =[1,5,3,9]\n",
    "aList.sort()\n",
    "print(aList)"
   ]
  },
  {
   "cell_type": "code",
   "execution_count": 26,
   "id": "c6bf642c",
   "metadata": {},
   "outputs": [
    {
     "name": "stdout",
     "output_type": "stream",
     "text": [
      "(1, 2, 4, 5)\n"
     ]
    }
   ],
   "source": [
    "aTuple =(1,2)\n",
    "bTuple=(4,5)\n",
    "cTuple=aTuple +bTuple\n",
    "print(cTuple)"
   ]
  },
  {
   "cell_type": "code",
   "execution_count": 27,
   "id": "47daa80f",
   "metadata": {},
   "outputs": [
    {
     "name": "stdout",
     "output_type": "stream",
     "text": [
      "[3 4 5]\n"
     ]
    }
   ],
   "source": [
    "import numpy as np\n",
    "aArray =np.arange(1,6)\n",
    "bArray=aArray[-3:]\n",
    "print(bArray)"
   ]
  },
  {
   "cell_type": "code",
   "execution_count": 29,
   "id": "7ec6d233",
   "metadata": {},
   "outputs": [
    {
     "name": "stdout",
     "output_type": "stream",
     "text": [
      "修改列表A的第2、3个元素的值\n",
      "[1, 8, 9, 4]\n"
     ]
    }
   ],
   "source": [
    "A=[1,2,3,4]\n",
    "B=A\n",
    "A[1:3]=(8,9)\n",
    "print(\"修改列表A的第2、3个元素的值\")\n",
    "print(B)"
   ]
  },
  {
   "cell_type": "code",
   "execution_count": 30,
   "id": "cb640a30",
   "metadata": {},
   "outputs": [
    {
     "name": "stdout",
     "output_type": "stream",
     "text": [
      "3\n"
     ]
    }
   ],
   "source": [
    "import numpy as np\n",
    "aArray =np.arange(1,6)\n",
    "x=aArray[2]\n",
    "print(x)"
   ]
  },
  {
   "cell_type": "code",
   "execution_count": 32,
   "id": "a9fab9de",
   "metadata": {},
   "outputs": [
    {
     "name": "stdout",
     "output_type": "stream",
     "text": [
      "astr和aNum不指向同一个对象\n"
     ]
    }
   ],
   "source": [
    "aStr =\"Hello Worla\"\n",
    "aNum =11\n",
    "if aStr is not aNum:\n",
    "    print(\"astr和aNum不指向同一个对象\")\n",
    "else:\n",
    "    print(\"astr和aNum不指向同一个对象。\")"
   ]
  },
  {
   "cell_type": "code",
   "execution_count": 39,
   "id": "5ffb5a0d",
   "metadata": {},
   "outputs": [
    {
     "name": "stdout",
     "output_type": "stream",
     "text": [
      "0\n",
      "15\n"
     ]
    }
   ],
   "source": [
    "A = np.arange(16)\n",
    "print(A.min())\n",
    "print(A.max())"
   ]
  },
  {
   "cell_type": "code",
   "execution_count": 40,
   "id": "13fd2aa6",
   "metadata": {},
   "outputs": [
    {
     "name": "stdout",
     "output_type": "stream",
     "text": [
      "1.4.2\n"
     ]
    }
   ],
   "source": [
    "print(pd.__version__)"
   ]
  },
  {
   "cell_type": "code",
   "execution_count": null,
   "id": "dbd92c7f",
   "metadata": {},
   "outputs": [],
   "source": []
  }
 ],
 "metadata": {
  "kernelspec": {
   "display_name": "Python 3 (ipykernel)",
   "language": "python",
   "name": "python3"
  },
  "language_info": {
   "codemirror_mode": {
    "name": "ipython",
    "version": 3
   },
   "file_extension": ".py",
   "mimetype": "text/x-python",
   "name": "python",
   "nbconvert_exporter": "python",
   "pygments_lexer": "ipython3",
   "version": "3.9.12"
  }
 },
 "nbformat": 4,
 "nbformat_minor": 5
}
