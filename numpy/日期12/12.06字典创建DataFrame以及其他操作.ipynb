{
 "cells": [
  {
   "cell_type": "code",
   "execution_count": 1,
   "id": "f0a5d1c6",
   "metadata": {},
   "outputs": [],
   "source": [
    "import numpy as np\n",
    "import pandas as pd"
   ]
  },
  {
   "cell_type": "code",
   "execution_count": 3,
   "id": "3b5fadda",
   "metadata": {},
   "outputs": [
    {
     "name": "stdout",
     "output_type": "stream",
     "text": [
      "C:\\Users\\18354\\日期12\n"
     ]
    }
   ],
   "source": [
    "import os \n",
    "print(os.path.abspath('.'))"
   ]
  },
  {
   "cell_type": "code",
   "execution_count": 7,
   "id": "ffc68e0f",
   "metadata": {},
   "outputs": [
    {
     "name": "stdout",
     "output_type": "stream",
     "text": [
      "     name sex\n",
      "stu1  aaa   男\n",
      "stu2  bbb   女\n",
      "stu3  ccc   女\n",
      "     name sex\n",
      "stu1  aaa   男\n",
      "stu2  bbb   女\n",
      "stu3  ccc   女\n"
     ]
    }
   ],
   "source": [
    "data = {'name':['aaa','bbb','ccc'],'sex':['男','女','女']}\n",
    "# 定义行标签\n",
    "index = ['stu1', 'stu2', 'stu3']\n",
    "# 使用字典创建\n",
    "df = pd.DataFrame(data,index=index)\n",
    "print(df)\n",
    "print(df[['name','sex']])"
   ]
  },
  {
   "cell_type": "code",
   "execution_count": 20,
   "id": "6f7b0949",
   "metadata": {},
   "outputs": [
    {
     "name": "stdout",
     "output_type": "stream",
     "text": [
      "     name sex  age  score\n",
      "stu1  aaa   男   20     90\n",
      "stu2  bbb   女   20     90\n",
      "stu3  ccc   女   20     90\n"
     ]
    }
   ],
   "source": [
    "data = {'name':['aaa','bbb','ccc'],'sex':['男','女','女'],'age':[20,20,20]}\n",
    "# 定义行标签\n",
    "index = ['stu1', 'stu2', 'stu3']\n",
    "# 使用字典创建\n",
    "df = pd.DataFrame(data,index=index)\n",
    "df['score']=[90,90,90]\n",
    "print(df)"
   ]
  },
  {
   "cell_type": "code",
   "execution_count": 21,
   "id": "cd7ff772",
   "metadata": {},
   "outputs": [
    {
     "name": "stdout",
     "output_type": "stream",
     "text": [
      "Empty DataFrame\n",
      "Columns: [name, sex, age, score]\n",
      "Index: []\n",
      "[0]\n"
     ]
    }
   ],
   "source": [
    "a = df['name':'sex']   # 不能使用切片操作\n",
    "print(a)  \n",
    "print([0])  # 不可以使用标签下标取值"
   ]
  },
  {
   "cell_type": "code",
   "execution_count": 10,
   "id": "fbbb905e",
   "metadata": {},
   "outputs": [
    {
     "name": "stdout",
     "output_type": "stream",
     "text": [
      "     name sex  age  score  rating\n",
      "stu1  aaa   男   20     90     110\n",
      "stu2  bbb   女   20     90     110\n",
      "stu3  ccc   女   20     90     110\n"
     ]
    }
   ],
   "source": [
    "# 将已经有的列进行运算得到新的列\n",
    "df['rating']=df['age']+df['score']\n",
    "print(df)"
   ]
  },
  {
   "cell_type": "code",
   "execution_count": 15,
   "id": "4920bc61",
   "metadata": {},
   "outputs": [
    {
     "name": "stdout",
     "output_type": "stream",
     "text": [
      "     name sex  age  score  score  score1  rating\n",
      "stu1  aaa   男   20     90     90      90     110\n",
      "stu2  bbb   女   20     90     91      91     110\n",
      "stu3  ccc   女   20     90     92      92     110\n"
     ]
    }
   ],
   "source": [
    "# allow_duplicates=True 允许数据重复\n",
    "df.insert(4, column='score',value=[90,91,92],allow_duplicates=True)\n",
    "print(df)"
   ]
  },
  {
   "cell_type": "code",
   "execution_count": 17,
   "id": "8ea0c022",
   "metadata": {},
   "outputs": [
    {
     "name": "stdout",
     "output_type": "stream",
     "text": [
      "     name sex  age  rating\n",
      "stu1  aaa   男   20     110\n",
      "stu2  bbb   女   20     110\n",
      "stu3  ccc   女   20     110\n"
     ]
    }
   ],
   "source": [
    "del df['score']  # 没有返回值\n",
    "print(df)"
   ]
  },
  {
   "cell_type": "code",
   "execution_count": 19,
   "id": "e5fd6335",
   "metadata": {},
   "outputs": [
    {
     "name": "stdout",
     "output_type": "stream",
     "text": [
      "stu1    20\n",
      "stu2    20\n",
      "stu3    20\n",
      "Name: age, dtype: int64\n",
      "+++++++++++\n",
      "     name sex  rating\n",
      "stu1  aaa   男     110\n",
      "stu2  bbb   女     110\n",
      "stu3  ccc   女     110\n"
     ]
    }
   ],
   "source": [
    "# pop(),有返回值是删除的东西\n",
    "a = df.pop('age')\n",
    "print(a)  # 输出删除了什么\n",
    "print(\"+++++++++++\")\n",
    "print(df)  # 输出剩余的"
   ]
  },
  {
   "cell_type": "code",
   "execution_count": 28,
   "id": "1089a102",
   "metadata": {},
   "outputs": [
    {
     "name": "stdout",
     "output_type": "stream",
     "text": [
      "     name sex  age\n",
      "stu1  aaa   男   20\n",
      "stu2  bbb   女   20\n",
      "stu3  ccc   女   20\n",
      "+++++++++++++++++++\n",
      "     name sex  age\n",
      "stu2  bbb   女   20\n",
      "stu1  aaa   男   20\n"
     ]
    }
   ],
   "source": [
    "data = {'name':['aaa','bbb','ccc'],'sex':['男','女','女'],'age':[20,20,20]}\n",
    "# 定义行标签\n",
    "index = ['stu1', 'stu2', 'stu3']\n",
    "# 使用字典创建\n",
    "df = pd.DataFrame(data,index=index)\n",
    "print(df)\n",
    "print(\"+++++++++++++++++++\")\n",
    "print(df.loc[['stu2','stu1']])"
   ]
  },
  {
   "cell_type": "code",
   "execution_count": 29,
   "id": "025b506c",
   "metadata": {},
   "outputs": [
    {
     "data": {
      "text/plain": [
       "'ccc'"
      ]
     },
     "execution_count": 29,
     "metadata": {},
     "output_type": "execute_result"
    }
   ],
   "source": [
    "df.loc['stu3','name']   # 行和列"
   ]
  },
  {
   "cell_type": "code",
   "execution_count": 39,
   "id": "bfb1ecec",
   "metadata": {},
   "outputs": [
    {
     "name": "stdout",
     "output_type": "stream",
     "text": [
      "     name sex\n",
      "stu1  aaa   男\n",
      "stu2  bbb   女\n",
      "stu1    aaa\n",
      "stu2    bbb\n",
      "Name: name, dtype: object\n"
     ]
    }
   ],
   "source": [
    "aa = df.loc[['stu1','stu2'],['name','sex']]  # 行和列\n",
    "print(aa)\n",
    "aa = df.loc['stu1':'stu2','name']\n",
    "print(aa)"
   ]
  },
  {
   "cell_type": "code",
   "execution_count": 44,
   "id": "01ea1134",
   "metadata": {},
   "outputs": [
    {
     "data": {
      "text/plain": [
       "name    ccc\n",
       "sex       女\n",
       "age      20\n",
       "Name: stu3, dtype: object"
      ]
     },
     "execution_count": 44,
     "metadata": {},
     "output_type": "execute_result"
    }
   ],
   "source": [
    "# 索引位置为2的数据, 标签不算从上到下从0开始取, iloc和loc不能混用\n",
    "df.iloc[2]  "
   ]
  },
  {
   "cell_type": "code",
   "execution_count": 47,
   "id": "be788484",
   "metadata": {},
   "outputs": [
    {
     "data": {
      "text/html": [
       "<div>\n",
       "<style scoped>\n",
       "    .dataframe tbody tr th:only-of-type {\n",
       "        vertical-align: middle;\n",
       "    }\n",
       "\n",
       "    .dataframe tbody tr th {\n",
       "        vertical-align: top;\n",
       "    }\n",
       "\n",
       "    .dataframe thead th {\n",
       "        text-align: right;\n",
       "    }\n",
       "</style>\n",
       "<table border=\"1\" class=\"dataframe\">\n",
       "  <thead>\n",
       "    <tr style=\"text-align: right;\">\n",
       "      <th></th>\n",
       "      <th>name</th>\n",
       "      <th>sex</th>\n",
       "      <th>age</th>\n",
       "    </tr>\n",
       "  </thead>\n",
       "  <tbody>\n",
       "    <tr>\n",
       "      <th>stu1</th>\n",
       "      <td>aaa</td>\n",
       "      <td>男</td>\n",
       "      <td>20</td>\n",
       "    </tr>\n",
       "    <tr>\n",
       "      <th>stu3</th>\n",
       "      <td>ccc</td>\n",
       "      <td>女</td>\n",
       "      <td>20</td>\n",
       "    </tr>\n",
       "  </tbody>\n",
       "</table>\n",
       "</div>"
      ],
      "text/plain": [
       "     name sex  age\n",
       "stu1  aaa   男   20\n",
       "stu3  ccc   女   20"
      ]
     },
     "execution_count": 47,
     "metadata": {},
     "output_type": "execute_result"
    }
   ],
   "source": [
    "df.iloc[[0,2]]  # 一次取多个加一成[]"
   ]
  },
  {
   "cell_type": "code",
   "execution_count": 49,
   "id": "363cc37a",
   "metadata": {},
   "outputs": [
    {
     "data": {
      "text/html": [
       "<div>\n",
       "<style scoped>\n",
       "    .dataframe tbody tr th:only-of-type {\n",
       "        vertical-align: middle;\n",
       "    }\n",
       "\n",
       "    .dataframe tbody tr th {\n",
       "        vertical-align: top;\n",
       "    }\n",
       "\n",
       "    .dataframe thead th {\n",
       "        text-align: right;\n",
       "    }\n",
       "</style>\n",
       "<table border=\"1\" class=\"dataframe\">\n",
       "  <thead>\n",
       "    <tr style=\"text-align: right;\">\n",
       "      <th></th>\n",
       "      <th>name</th>\n",
       "      <th>sex</th>\n",
       "      <th>age</th>\n",
       "    </tr>\n",
       "  </thead>\n",
       "  <tbody>\n",
       "    <tr>\n",
       "      <th>stu1</th>\n",
       "      <td>aaa</td>\n",
       "      <td>男</td>\n",
       "      <td>20</td>\n",
       "    </tr>\n",
       "    <tr>\n",
       "      <th>stu2</th>\n",
       "      <td>bbb</td>\n",
       "      <td>女</td>\n",
       "      <td>20</td>\n",
       "    </tr>\n",
       "  </tbody>\n",
       "</table>\n",
       "</div>"
      ],
      "text/plain": [
       "     name sex  age\n",
       "stu1  aaa   男   20\n",
       "stu2  bbb   女   20"
      ]
     },
     "execution_count": 49,
     "metadata": {},
     "output_type": "execute_result"
    }
   ],
   "source": [
    "df.iloc[0:2]  # 切片操作首取尾不取"
   ]
  },
  {
   "cell_type": "code",
   "execution_count": 50,
   "id": "4a438942",
   "metadata": {},
   "outputs": [
    {
     "name": "stdout",
     "output_type": "stream",
     "text": [
      "4.4\n"
     ]
    }
   ],
   "source": [
    "print(550*8/1000)"
   ]
  },
  {
   "cell_type": "code",
   "execution_count": null,
   "id": "63330154",
   "metadata": {},
   "outputs": [],
   "source": []
  }
 ],
 "metadata": {
  "kernelspec": {
   "display_name": "Python 3 (ipykernel)",
   "language": "python",
   "name": "python3"
  },
  "language_info": {
   "codemirror_mode": {
    "name": "ipython",
    "version": 3
   },
   "file_extension": ".py",
   "mimetype": "text/x-python",
   "name": "python",
   "nbconvert_exporter": "python",
   "pygments_lexer": "ipython3",
   "version": "3.9.12"
  }
 },
 "nbformat": 4,
 "nbformat_minor": 5
}
