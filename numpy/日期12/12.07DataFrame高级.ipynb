{
 "cells": [
  {
   "cell_type": "code",
   "execution_count": 1,
   "id": "b728eb0c",
   "metadata": {},
   "outputs": [],
   "source": [
    "import numpy as np\n",
    "import pandas as pd"
   ]
  },
  {
   "cell_type": "code",
   "execution_count": 22,
   "id": "5b14727f",
   "metadata": {},
   "outputs": [
    {
     "name": "stdout",
     "output_type": "stream",
     "text": [
      "      Name  Age  Salary       Hobby\n",
      "rank1   关羽   28    5000      python\n",
      "rank2   刘备   34    8000        java\n",
      "rank3   张飞   29    4500          go\n",
      "rank4   曹操   42   10000  JavaScript\n",
      "1111111111111\n",
      "Name        张飞\n",
      "Age         29\n",
      "Salary    4500\n",
      "Hobby       go\n",
      "Name: rank3, dtype: object\n",
      "2222222222222\n",
      "rank1    28\n",
      "rank2    34\n",
      "rank3    29\n",
      "rank4    42\n",
      "Name: Age, dtype: int64\n",
      "3333333333333\n",
      "       Age  Salary\n",
      "rank1   28    5000\n",
      "rank2   34    8000\n",
      "rank3   29    4500\n",
      "rank4   42   10000\n",
      "444444444444444\n",
      "      Name  Age  Salary   Hobby\n",
      "rank1   关羽   28    5000  python\n",
      "rank2   刘备   34    8000    java\n",
      "rank3   张飞   29    4500      go\n",
      "55555555555555555\n",
      "      Name  Age  Salary\n",
      "rank1   关羽   28    5000\n",
      "rank2   刘备   34    8000\n",
      "rank3   张飞   29    4500\n",
      "66666666666666666\n",
      "       Age  Salary\n",
      "rank1   28    5000\n",
      "rank3   29    4500\n"
     ]
    }
   ],
   "source": [
    "data = {\n",
    "    'Name':['关羽','刘备','张飞','曹操'],\n",
    "    'Age':[28,34,29,42],\n",
    "    'Salary':[5000,8000,4500,10000],\n",
    "    'Hobby':[\"python\",\"java\",\"go\",\"JavaScript\"]\n",
    "}\n",
    "# 定义行标签\n",
    "index = [\"rank1\",\"rank2\",\"rank3\",\"rank4\"]\n",
    "# 通过字典创建DataFrame\n",
    "df = pd.DataFrame(data,index=index)\n",
    "print(df)\n",
    "print(\"1111111111111\")\n",
    "print(df.iloc[2])\n",
    "print(\"2222222222222\")\n",
    "print(df['Age'])\n",
    "print(\"3333333333333\")\n",
    "print(df[['Age','Salary']])\n",
    "print(\"444444444444444\")\n",
    "print(df.iloc[0:3])\n",
    "print(\"55555555555555555\")\n",
    "a = df.iloc[:3]\n",
    "print(a[['Name','Age','Salary']])\n",
    "print(\"66666666666666666\")\n",
    "b = df.iloc[[0,2]]\n",
    "print(b[['Age','Salary']])"
   ]
  },
  {
   "cell_type": "code",
   "execution_count": 44,
   "id": "ba1c8e4d",
   "metadata": {},
   "outputs": [
    {
     "name": "stdout",
     "output_type": "stream",
     "text": [
      "      Name  Age  Salary       Hobby\n",
      "rank1   关羽   28    5000      python\n",
      "rank2   刘备   34    8000        java\n",
      "rank3   张飞   29    4500          go\n",
      "rank4   曹操   42   10000  JavaScript\n"
     ]
    }
   ],
   "source": [
    "# 添加数据行\n",
    "data = {\n",
    "    'Name':['关羽','刘备','张飞','曹操'],\n",
    "    'Age':[28,34,29,42],\n",
    "    'Salary':[5000,8000,4500,10000],\n",
    "    'Hobby':[\"python\",\"java\",\"go\",\"JavaScript\"]\n",
    "}\n",
    "# 定义行标签\n",
    "index = [\"rank1\",\"rank2\",\"rank3\",\"rank4\"]\n",
    "# 通过字典创建DataFrame\n",
    "df = pd.DataFrame(data,index=index)\n",
    "print(df)"
   ]
  },
  {
   "cell_type": "code",
   "execution_count": 29,
   "id": "5afa22a3",
   "metadata": {},
   "outputs": [
    {
     "name": "stdout",
     "output_type": "stream",
     "text": [
      "  Name  Age   Salary       Hobby  Sex\n",
      "0   关羽   28   5000.0      python  NaN\n",
      "1   刘备   34   8000.0        java  NaN\n",
      "2   张飞   29   4500.0          go  NaN\n",
      "3   曹操   42  10000.0  JavaScript  NaN\n",
      "4  aaa   20      NaN         NaN    女\n"
     ]
    },
    {
     "name": "stderr",
     "output_type": "stream",
     "text": [
      "C:\\Users\\18354\\AppData\\Local\\Temp\\ipykernel_24040\\1119224145.py:2: FutureWarning: The frame.append method is deprecated and will be removed from pandas in a future version. Use pandas.concat instead.\n",
      "  df1 = df.append(d2,ignore_index=True)\n"
     ]
    }
   ],
   "source": [
    "d2 = {'Name':'aaa','Sex':'女','Age':20}\n",
    "df1 = df.append(d2,ignore_index=True)  # 第一种方法\n",
    "print(df1)"
   ]
  },
  {
   "cell_type": "code",
   "execution_count": 32,
   "id": "dda29e6d",
   "metadata": {},
   "outputs": [
    {
     "name": "stdout",
     "output_type": "stream",
     "text": [
      "      Name  Age   Salary       Hobby  Sex\n",
      "rank1   关羽   28   5000.0      python  NaN\n",
      "rank2   刘备   34   8000.0        java  NaN\n",
      "rank3   张飞   29   4500.0          go  NaN\n",
      "rank4   曹操   42  10000.0  JavaScript  NaN\n",
      "a      bbb   20      NaN         NaN    女\n"
     ]
    },
    {
     "name": "stderr",
     "output_type": "stream",
     "text": [
      "C:\\Users\\18354\\AppData\\Local\\Temp\\ipykernel_24040\\3515589012.py:3: FutureWarning: The frame.append method is deprecated and will be removed from pandas in a future version. Use pandas.concat instead.\n",
      "  df2 = df.append(s)\n"
     ]
    }
   ],
   "source": [
    "d2 = {'Name':'bbb','Sex':'女','Age':20}\n",
    "s = pd.Series(d2,name='a')   # 第二种给序列名(行标签)\n",
    "df2 = df.append(s)\n",
    "print(df2)"
   ]
  },
  {
   "cell_type": "code",
   "execution_count": 33,
   "id": "0649691f",
   "metadata": {},
   "outputs": [
    {
     "name": "stdout",
     "output_type": "stream",
     "text": [
      "   0  1  2  3   4\n",
      "0  1  2  3  4   5\n",
      "1  6  7  8  9  10\n"
     ]
    }
   ],
   "source": [
    "data = [[1,2,3,4,5],[6,7,8,9,10]]\n",
    "df = pd.DataFrame(data)\n",
    "print(df)"
   ]
  },
  {
   "cell_type": "code",
   "execution_count": 35,
   "id": "e123c18e",
   "metadata": {},
   "outputs": [
    {
     "name": "stdout",
     "output_type": "stream",
     "text": [
      "    0    1    2    3     4\n",
      "0   1  2.0  3.0  4.0   5.0\n",
      "1   6  7.0  8.0  9.0  10.0\n",
      "2  20  NaN  NaN  NaN   NaN\n",
      "3  30  NaN  NaN  NaN   NaN\n"
     ]
    },
    {
     "name": "stderr",
     "output_type": "stream",
     "text": [
      "C:\\Users\\18354\\AppData\\Local\\Temp\\ipykernel_24040\\1496219609.py:2: FutureWarning: The frame.append method is deprecated and will be removed from pandas in a future version. Use pandas.concat instead.\n",
      "  df1 = df.append(a1,ignore_index=True)\n"
     ]
    }
   ],
   "source": [
    "a1 = [20,30]   # 一维的以列添加\n",
    "df1 = df.append(a1,ignore_index=True)\n",
    "print(df1)"
   ]
  },
  {
   "cell_type": "code",
   "execution_count": 37,
   "id": "be7098c9",
   "metadata": {},
   "outputs": [
    {
     "name": "stdout",
     "output_type": "stream",
     "text": [
      "    0   1   2    3     4\n",
      "0   1   2   3  4.0   5.0\n",
      "1   6   7   8  9.0  10.0\n",
      "2  10  20  30  NaN   NaN\n"
     ]
    },
    {
     "name": "stderr",
     "output_type": "stream",
     "text": [
      "C:\\Users\\18354\\AppData\\Local\\Temp\\ipykernel_24040\\2097660962.py:2: FutureWarning: The frame.append method is deprecated and will be removed from pandas in a future version. Use pandas.concat instead.\n",
      "  df2 = df.append(a2,ignore_index=True)\n"
     ]
    }
   ],
   "source": [
    "a2 = [[10,'20',30]]\n",
    "df2 = df.append(a2,ignore_index=True)\n",
    "print(df2)"
   ]
  },
  {
   "cell_type": "code",
   "execution_count": 42,
   "id": "32040cfa",
   "metadata": {},
   "outputs": [
    {
     "name": "stderr",
     "output_type": "stream",
     "text": [
      "C:\\Users\\18354\\AppData\\Local\\Temp\\ipykernel_24040\\2652793960.py:3: FutureWarning: The frame.append method is deprecated and will be removed from pandas in a future version. Use pandas.concat instead.\n",
      "  df = df.append(df2,ignore_index=True)\n"
     ]
    },
    {
     "data": {
      "text/html": [
       "<div>\n",
       "<style scoped>\n",
       "    .dataframe tbody tr th:only-of-type {\n",
       "        vertical-align: middle;\n",
       "    }\n",
       "\n",
       "    .dataframe tbody tr th {\n",
       "        vertical-align: top;\n",
       "    }\n",
       "\n",
       "    .dataframe thead th {\n",
       "        text-align: right;\n",
       "    }\n",
       "</style>\n",
       "<table border=\"1\" class=\"dataframe\">\n",
       "  <thead>\n",
       "    <tr style=\"text-align: right;\">\n",
       "      <th></th>\n",
       "      <th>a</th>\n",
       "      <th>b</th>\n",
       "    </tr>\n",
       "  </thead>\n",
       "  <tbody>\n",
       "    <tr>\n",
       "      <th>0</th>\n",
       "      <td>1</td>\n",
       "      <td>2</td>\n",
       "    </tr>\n",
       "    <tr>\n",
       "      <th>1</th>\n",
       "      <td>3</td>\n",
       "      <td>4</td>\n",
       "    </tr>\n",
       "    <tr>\n",
       "      <th>2</th>\n",
       "      <td>5</td>\n",
       "      <td>6</td>\n",
       "    </tr>\n",
       "    <tr>\n",
       "      <th>3</th>\n",
       "      <td>7</td>\n",
       "      <td>8</td>\n",
       "    </tr>\n",
       "  </tbody>\n",
       "</table>\n",
       "</div>"
      ],
      "text/plain": [
       "   a  b\n",
       "0  1  2\n",
       "1  3  4\n",
       "2  5  6\n",
       "3  7  8"
      ]
     },
     "execution_count": 42,
     "metadata": {},
     "output_type": "execute_result"
    }
   ],
   "source": [
    "df = pd.DataFrame([[1,2],[3,4]],columns=['a', 'b'])\n",
    "df2 = pd.DataFrame([[5,6],[7,8]],columns=['a','b'])\n",
    "df = df.append(df2,ignore_index=True)\n",
    "df"
   ]
  },
  {
   "cell_type": "code",
   "execution_count": 43,
   "id": "4d59c0aa",
   "metadata": {},
   "outputs": [
    {
     "data": {
      "text/html": [
       "<div>\n",
       "<style scoped>\n",
       "    .dataframe tbody tr th:only-of-type {\n",
       "        vertical-align: middle;\n",
       "    }\n",
       "\n",
       "    .dataframe tbody tr th {\n",
       "        vertical-align: top;\n",
       "    }\n",
       "\n",
       "    .dataframe thead th {\n",
       "        text-align: right;\n",
       "    }\n",
       "</style>\n",
       "<table border=\"1\" class=\"dataframe\">\n",
       "  <thead>\n",
       "    <tr style=\"text-align: right;\">\n",
       "      <th></th>\n",
       "      <th>a</th>\n",
       "      <th>b</th>\n",
       "    </tr>\n",
       "  </thead>\n",
       "  <tbody>\n",
       "    <tr>\n",
       "      <th>1</th>\n",
       "      <td>3</td>\n",
       "      <td>4</td>\n",
       "    </tr>\n",
       "    <tr>\n",
       "      <th>2</th>\n",
       "      <td>5</td>\n",
       "      <td>6</td>\n",
       "    </tr>\n",
       "    <tr>\n",
       "      <th>3</th>\n",
       "      <td>7</td>\n",
       "      <td>8</td>\n",
       "    </tr>\n",
       "  </tbody>\n",
       "</table>\n",
       "</div>"
      ],
      "text/plain": [
       "   a  b\n",
       "1  3  4\n",
       "2  5  6\n",
       "3  7  8"
      ]
     },
     "execution_count": 43,
     "metadata": {},
     "output_type": "execute_result"
    }
   ],
   "source": [
    "# drop方法不会改变数据源\n",
    "df1 = df.drop(0)\n",
    "df1"
   ]
  },
  {
   "cell_type": "code",
   "execution_count": 41,
   "id": "6c418a02",
   "metadata": {},
   "outputs": [
    {
     "data": {
      "text/html": [
       "<div>\n",
       "<style scoped>\n",
       "    .dataframe tbody tr th:only-of-type {\n",
       "        vertical-align: middle;\n",
       "    }\n",
       "\n",
       "    .dataframe tbody tr th {\n",
       "        vertical-align: top;\n",
       "    }\n",
       "\n",
       "    .dataframe thead th {\n",
       "        text-align: right;\n",
       "    }\n",
       "</style>\n",
       "<table border=\"1\" class=\"dataframe\">\n",
       "  <thead>\n",
       "    <tr style=\"text-align: right;\">\n",
       "      <th></th>\n",
       "      <th>a</th>\n",
       "      <th>b</th>\n",
       "    </tr>\n",
       "  </thead>\n",
       "  <tbody>\n",
       "    <tr>\n",
       "      <th>0</th>\n",
       "      <td>1</td>\n",
       "      <td>2</td>\n",
       "    </tr>\n",
       "    <tr>\n",
       "      <th>1</th>\n",
       "      <td>3</td>\n",
       "      <td>4</td>\n",
       "    </tr>\n",
       "    <tr>\n",
       "      <th>0</th>\n",
       "      <td>5</td>\n",
       "      <td>6</td>\n",
       "    </tr>\n",
       "    <tr>\n",
       "      <th>1</th>\n",
       "      <td>7</td>\n",
       "      <td>8</td>\n",
       "    </tr>\n",
       "  </tbody>\n",
       "</table>\n",
       "</div>"
      ],
      "text/plain": [
       "   a  b\n",
       "0  1  2\n",
       "1  3  4\n",
       "0  5  6\n",
       "1  7  8"
      ]
     },
     "execution_count": 41,
     "metadata": {},
     "output_type": "execute_result"
    }
   ],
   "source": [
    "df"
   ]
  },
  {
   "cell_type": "code",
   "execution_count": null,
   "id": "151cc53c",
   "metadata": {},
   "outputs": [],
   "source": []
  }
 ],
 "metadata": {
  "kernelspec": {
   "display_name": "Python 3 (ipykernel)",
   "language": "python",
   "name": "python3"
  },
  "language_info": {
   "codemirror_mode": {
    "name": "ipython",
    "version": 3
   },
   "file_extension": ".py",
   "mimetype": "text/x-python",
   "name": "python",
   "nbconvert_exporter": "python",
   "pygments_lexer": "ipython3",
   "version": "3.9.12"
  }
 },
 "nbformat": 4,
 "nbformat_minor": 5
}
