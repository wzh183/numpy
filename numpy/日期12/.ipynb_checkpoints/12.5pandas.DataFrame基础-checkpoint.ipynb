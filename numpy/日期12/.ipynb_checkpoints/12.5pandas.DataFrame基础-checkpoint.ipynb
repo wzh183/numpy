{
 "cells": [
  {
   "cell_type": "code",
   "execution_count": 1,
   "id": "64b78005",
   "metadata": {},
   "outputs": [],
   "source": [
    "import numpy as np\n",
    "import pandas as pd"
   ]
  },
  {
   "cell_type": "code",
   "execution_count": 5,
   "id": "b619b9da",
   "metadata": {},
   "outputs": [
    {
     "name": "stdout",
     "output_type": "stream",
     "text": [
      "   0\n",
      "1  1\n",
      "2  2\n",
      "3  3\n",
      "4  4\n",
      "5  5\n"
     ]
    }
   ],
   "source": [
    "data = [1,2,3,4,5]\n",
    "d1 = pd.DataFrame(data)\n",
    "print(d1)"
   ]
  },
  {
   "cell_type": "code",
   "execution_count": 6,
   "id": "47eded63",
   "metadata": {},
   "outputs": [
    {
     "name": "stdout",
     "output_type": "stream",
     "text": [
      "0    1\n",
      "1    2\n",
      "2    3\n",
      "3    4\n",
      "4    5\n",
      "dtype: int64\n"
     ]
    }
   ],
   "source": [
    "s1 = pd.Series(data)\n",
    "print(s1)"
   ]
  },
  {
   "cell_type": "code",
   "execution_count": 8,
   "id": "3a0358d1",
   "metadata": {},
   "outputs": [
    {
     "name": "stdout",
     "output_type": "stream",
     "text": [
      "     0   1\n",
      "0  wzh  20\n",
      "1  zjl  30\n",
      "2  gmr  18\n"
     ]
    }
   ],
   "source": [
    "data = [['wzh',20],['zjl',30],['gmr',18]]\n",
    "d2 = pd.DataFrame(data)\n",
    "print(d2)"
   ]
  },
  {
   "cell_type": "code",
   "execution_count": 9,
   "id": "350be3eb",
   "metadata": {},
   "outputs": [
    {
     "name": "stdout",
     "output_type": "stream",
     "text": [
      "    名字  年龄\n",
      "0  wzh  20\n",
      "1  zjl  30\n",
      "2  gmr  18\n"
     ]
    }
   ],
   "source": [
    "data = [['wzh',20],['zjl',30],['gmr',18]]\n",
    "d2 = pd.DataFrame(data,columns=['名字','年龄'])\n",
    "print(d2)"
   ]
  },
  {
   "cell_type": "code",
   "execution_count": 14,
   "id": "89976155",
   "metadata": {},
   "outputs": [
    {
     "name": "stdout",
     "output_type": "stream",
     "text": [
      "    名字   年龄 性别      消费\n",
      "0  bbb   19  女  2000.0\n",
      "1  ccc   20  女  2000.0\n",
      "2  aaa  200  男     NaN\n",
      "float64\n",
      "int32\n"
     ]
    },
    {
     "name": "stderr",
     "output_type": "stream",
     "text": [
      "C:\\Users\\18354\\AppData\\Local\\Temp\\ipykernel_34396\\2612152091.py:3: FutureWarning: Could not cast to int32, falling back to object. This behavior is deprecated. In a future version, when a dtype is passed to 'DataFrame', either all columns will be cast to that dtype, or a TypeError will be raised.\n",
      "  df = pd.DataFrame(data,columns=['名字','年龄','性别','消费'],dtype=int)\n",
      "C:\\Users\\18354\\AppData\\Local\\Temp\\ipykernel_34396\\2612152091.py:3: FutureWarning: In a future version, passing float-dtype values containing NaN and an integer dtype will raise IntCastingNaNError (subclass of ValueError) instead of silently ignoring the passed dtype. To retain the old behavior, call Series(arr) or DataFrame(arr) without passing a dtype.\n",
      "  df = pd.DataFrame(data,columns=['名字','年龄','性别','消费'],dtype=int)\n"
     ]
    }
   ],
   "source": [
    "data = [['bbb',19,'女',2000],['ccc',20,'女',2000],['aaa',200,'男']]\n",
    "# 分配列标签\n",
    "df = pd.DataFrame(data,columns=['名字','年龄','性别','消费'],dtype=int)\n",
    "print(df)\n",
    "print(df['消费'].dtype)\n",
    "print(df['年龄'].dtype)"
   ]
  },
  {
   "cell_type": "code",
   "execution_count": 18,
   "id": "dcbeca63",
   "metadata": {},
   "outputs": [
    {
     "name": "stdout",
     "output_type": "stream",
     "text": [
      "     name  age\n",
      "stu1  aaa    1\n",
      "stu2  bbb    2\n",
      "stu3  ccc    3\n",
      "Index(['stu1', 'stu2', 'stu3'], dtype='object')\n",
      "['stu1', 'stu2', 'stu3']\n"
     ]
    }
   ],
   "source": [
    "datav = {'name':['aaa','bbb','ccc'],'age':[1,2,3]}\n",
    "# 通过字典创建\n",
    "# 添加行标签\n",
    "index = ['stu1','stu2','stu3']\n",
    "df = pd.DataFrame(datav,index=index)\n",
    "print(df)\n",
    "print(df.index)\n",
    "print(list(df.index))"
   ]
  },
  {
   "cell_type": "code",
   "execution_count": 20,
   "id": "db050951",
   "metadata": {},
   "outputs": [
    {
     "name": "stdout",
     "output_type": "stream",
     "text": [
      "   aaa  b     c\n",
      "0    1  2   NaN\n",
      "1    1  2  55.0\n",
      "2    1  2   NaN\n"
     ]
    }
   ],
   "source": [
    "data = [{'aaa':1,'b':2},{'aaa':1,'b':2,'c':55},{'aaa':1,'b':2}]\n",
    "df = pd.DataFrame(data)\n",
    "print(df)"
   ]
  },
  {
   "cell_type": "code",
   "execution_count": 23,
   "id": "7cb907c2",
   "metadata": {},
   "outputs": [
    {
     "name": "stdout",
     "output_type": "stream",
     "text": [
      "         a  b\n",
      "num1  10.0  2\n",
      "num2   NaN  2\n"
     ]
    }
   ],
   "source": [
    "data = [{'a':10,'b':2},{'aaa':1,'b':2,'c':55}]\n",
    "# 指定行标签和列标签\n",
    "df = pd.DataFrame(data,index=['num1','num2'],columns=['a','b'])\n",
    "print(df)"
   ]
  },
  {
   "cell_type": "code",
   "execution_count": 25,
   "id": "30379c22",
   "metadata": {},
   "outputs": [
    {
     "name": "stdout",
     "output_type": "stream",
     "text": [
      "   one  two\n",
      "a  1.0    1\n",
      "b  2.0    2\n",
      "c  3.0    3\n",
      "d  NaN    4\n"
     ]
    }
   ],
   "source": [
    "d = {'one':pd.Series([1,2,3],index=['a','b','c']),\n",
    "    'two':pd.Series([1,2,3,4],index=['a','b','c','d'])}\n",
    "df = pd.DataFrame(d)\n",
    "print(df)"
   ]
  },
  {
   "cell_type": "code",
   "execution_count": null,
   "id": "ebc29909",
   "metadata": {},
   "outputs": [],
   "source": []
  }
 ],
 "metadata": {
  "kernelspec": {
   "display_name": "Python 3 (ipykernel)",
   "language": "python",
   "name": "python3"
  },
  "language_info": {
   "codemirror_mode": {
    "name": "ipython",
    "version": 3
   },
   "file_extension": ".py",
   "mimetype": "text/x-python",
   "name": "python",
   "nbconvert_exporter": "python",
   "pygments_lexer": "ipython3",
   "version": "3.9.12"
  }
 },
 "nbformat": 4,
 "nbformat_minor": 5
}
