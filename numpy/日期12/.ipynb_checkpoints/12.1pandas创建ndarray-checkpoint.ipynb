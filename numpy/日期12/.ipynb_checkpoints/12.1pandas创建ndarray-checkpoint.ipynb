{
 "cells": [
  {
   "cell_type": "code",
   "execution_count": 1,
   "id": "2b6c919c",
   "metadata": {},
   "outputs": [],
   "source": [
    "import numpy as np\n",
    "import pandas as pd"
   ]
  },
  {
   "cell_type": "code",
   "execution_count": 2,
   "id": "df4f9047",
   "metadata": {},
   "outputs": [
    {
     "name": "stdout",
     "output_type": "stream",
     "text": [
      "<class 'list'>\n"
     ]
    }
   ],
   "source": [
    "ar_list=[3,10,3,4,5]\n",
    "print(type(ar_list))"
   ]
  },
  {
   "cell_type": "code",
   "execution_count": 3,
   "id": "6f805833",
   "metadata": {},
   "outputs": [
    {
     "name": "stdout",
     "output_type": "stream",
     "text": [
      "0     3\n",
      "1    10\n",
      "2     3\n",
      "3     4\n",
      "4     5\n",
      "dtype: int64\n"
     ]
    }
   ],
   "source": [
    "s1 = pd.Series(ar_list)\n",
    "print(s1)"
   ]
  },
  {
   "cell_type": "code",
   "execution_count": 4,
   "id": "29675e8b",
   "metadata": {},
   "outputs": [
    {
     "name": "stdout",
     "output_type": "stream",
     "text": [
      "<class 'numpy.ndarray'>\n",
      "0    1\n",
      "1    2\n",
      "2    3\n",
      "3    4\n",
      "4    5\n",
      "dtype: int32\n"
     ]
    }
   ],
   "source": [
    "# 使用数组传家\n",
    "np_arr = np.arange(1,6)\n",
    "print(type(np_arr))\n",
    "s2 = pd.Series(np_arr)\n",
    "print(s2)"
   ]
  },
  {
   "cell_type": "code",
   "execution_count": 5,
   "id": "e84c9cec",
   "metadata": {},
   "outputs": [
    {
     "data": {
      "text/plain": [
       "0    100\n",
       "1    100\n",
       "2    100\n",
       "3    100\n",
       "4    100\n",
       "dtype: int64"
      ]
     },
     "execution_count": 5,
     "metadata": {},
     "output_type": "execute_result"
    }
   ],
   "source": [
    "a = pd.Series(100, index=range(5))\n",
    "a"
   ]
  },
  {
   "cell_type": "code",
   "execution_count": 6,
   "id": "e6b1e704",
   "metadata": {},
   "outputs": [
    {
     "data": {
      "text/plain": [
       "100    a\n",
       "101    b\n",
       "102    c\n",
       "103    d\n",
       "dtype: object"
      ]
     },
     "execution_count": 6,
     "metadata": {},
     "output_type": "execute_result"
    }
   ],
   "source": [
    "data = np.array(['a','b','c','d'])\n",
    "b = pd.Series(data,index=[100,101,102,103])\n",
    "b"
   ]
  },
  {
   "cell_type": "code",
   "execution_count": 7,
   "id": "b4a676e8",
   "metadata": {},
   "outputs": [
    {
     "data": {
      "text/plain": [
       "a    1\n",
       "b    2\n",
       "c    3\n",
       "dtype: int64"
      ]
     },
     "execution_count": 7,
     "metadata": {},
     "output_type": "execute_result"
    }
   ],
   "source": [
    "d = {'a':1,'b':2,'c':3}\n",
    "a1 = pd.Series(d,index=['a','b','c'])\n",
    "a1"
   ]
  },
  {
   "cell_type": "code",
   "execution_count": 8,
   "id": "f8dfc5ca",
   "metadata": {},
   "outputs": [
    {
     "data": {
      "text/plain": [
       "a    1.0\n",
       "p    NaN\n",
       "w    NaN\n",
       "dtype: float64"
      ]
     },
     "execution_count": 8,
     "metadata": {},
     "output_type": "execute_result"
    }
   ],
   "source": [
    "a2 = pd.Series(d,index=['a','p','w'])\n",
    "a2"
   ]
  },
  {
   "cell_type": "code",
   "execution_count": 9,
   "id": "2bb20830",
   "metadata": {},
   "outputs": [
    {
     "data": {
      "text/plain": [
       "c    3\n",
       "a    1\n",
       "b    2\n",
       "dtype: int64"
      ]
     },
     "execution_count": 9,
     "metadata": {},
     "output_type": "execute_result"
    }
   ],
   "source": [
    "a3 = pd.Series(d,index=['c','a','b'])\n",
    "a3"
   ]
  },
  {
   "cell_type": "code",
   "execution_count": 10,
   "id": "6b478b64",
   "metadata": {},
   "outputs": [
    {
     "data": {
      "text/plain": [
       "bj    2000\n",
       "sh    2500\n",
       "sz    1800\n",
       "dtype: int64"
      ]
     },
     "execution_count": 10,
     "metadata": {},
     "output_type": "execute_result"
    }
   ],
   "source": [
    "data = {\n",
    "    'bj':2000,\n",
    "    'sh':2500,\n",
    "    'sz':1800\n",
    "}\n",
    "s1 = pd.Series(data)\n",
    "s1"
   ]
  },
  {
   "cell_type": "code",
   "execution_count": 12,
   "id": "a3cdc2ca",
   "metadata": {},
   "outputs": [
    {
     "data": {
      "text/plain": [
       "city name\n",
       "bj    2000\n",
       "sh    2500\n",
       "sz    1800\n",
       "Name: city data, dtype: int64"
      ]
     },
     "execution_count": 12,
     "metadata": {},
     "output_type": "execute_result"
    }
   ],
   "source": [
    "# 给数组,索引名字\n",
    "s1.name='city data'\n",
    "s1.index.name='city name'\n",
    "s1"
   ]
  },
  {
   "cell_type": "code",
   "execution_count": 13,
   "id": "f2f96bd0",
   "metadata": {},
   "outputs": [
    {
     "data": {
      "text/plain": [
       "0    1\n",
       "1    2\n",
       "2    3\n",
       "3    4\n",
       "4    5\n",
       "dtype: int32"
      ]
     },
     "execution_count": 13,
     "metadata": {},
     "output_type": "execute_result"
    }
   ],
   "source": [
    "n1 = np.arange(1,6)\n",
    "sn1 = pd.Series(n1)\n",
    "sn1"
   ]
  },
  {
   "cell_type": "code",
   "execution_count": 14,
   "id": "bda2c0bd",
   "metadata": {},
   "outputs": [
    {
     "data": {
      "text/plain": [
       "0     1\n",
       "1     2\n",
       "2     3\n",
       "3     4\n",
       "4    99\n",
       "dtype: int32"
      ]
     },
     "execution_count": 14,
     "metadata": {},
     "output_type": "execute_result"
    }
   ],
   "source": [
    "\n",
    "sn1[4]=99\n",
    "sn1"
   ]
  },
  {
   "cell_type": "code",
   "execution_count": 15,
   "id": "957b30ae",
   "metadata": {},
   "outputs": [
    {
     "data": {
      "text/plain": [
       "0    1\n",
       "1    2\n",
       "2    3\n",
       "3    4\n",
       "4    5\n",
       "dtype: int64"
      ]
     },
     "execution_count": 15,
     "metadata": {},
     "output_type": "execute_result"
    }
   ],
   "source": [
    "n2=[1,2,3,4,5]\n",
    "sn2 = pd.Series(n2)\n",
    "sn2\n",
    " "
   ]
  },
  {
   "cell_type": "code",
   "execution_count": 20,
   "id": "55320f4c",
   "metadata": {},
   "outputs": [
    {
     "name": "stdout",
     "output_type": "stream",
     "text": [
      "0     1\n",
      "1     2\n",
      "2     3\n",
      "3     4\n",
      "4    99\n",
      "dtype: int64\n",
      "[1, 2, 3, 4, 5]\n"
     ]
    }
   ],
   "source": [
    "sn2[4]=99\n",
    "print(sn2)\n",
    "print(n2)"
   ]
  },
  {
   "cell_type": "code",
   "execution_count": 23,
   "id": "f50fd6b5",
   "metadata": {},
   "outputs": [
    {
     "name": "stdout",
     "output_type": "stream",
     "text": [
      "0    0.984352\n",
      "1    0.197747\n",
      "2    0.658263\n",
      "3    0.369808\n",
      "4    0.007002\n",
      "dtype: float64\n",
      "0.36980827769832103 <class 'numpy.float64'> float64\n"
     ]
    }
   ],
   "source": [
    "s = pd.Series(np.random.rand(5))\n",
    "print(s)\n",
    "print(s[3], type(s[3]), s[3].dtype)"
   ]
  },
  {
   "cell_type": "code",
   "execution_count": 26,
   "id": "14bc8589",
   "metadata": {},
   "outputs": [
    {
     "name": "stdout",
     "output_type": "stream",
     "text": [
      "a    0.361590\n",
      "b    0.038810\n",
      "c    0.347933\n",
      "d    0.873614\n",
      "e    0.338302\n",
      "dtype: float64\n",
      "0.3479330426291276\n",
      "0.3479330426291276\n"
     ]
    }
   ],
   "source": [
    "s1 = pd.Series(np.random.rand(5),index=list('abcde'))\n",
    "print(s1)\n",
    "print(s1['c'])\n",
    "print(s1[2])"
   ]
  },
  {
   "cell_type": "code",
   "execution_count": 27,
   "id": "f76edac6",
   "metadata": {},
   "outputs": [
    {
     "name": "stdout",
     "output_type": "stream",
     "text": [
      "b    0.038810\n",
      "e    0.338302\n",
      "dtype: float64\n"
     ]
    }
   ],
   "source": [
    "# 取多个元素需要用[[]] (相当于[]里面放一个列表)\n",
    "print(s1[['b','e']])"
   ]
  },
  {
   "cell_type": "code",
   "execution_count": 28,
   "id": "fba5dcde",
   "metadata": {},
   "outputs": [
    {
     "data": {
      "text/plain": [
       "b    0.038810\n",
       "a    0.361590\n",
       "e    0.338302\n",
       "dtype: float64"
      ]
     },
     "execution_count": 28,
     "metadata": {},
     "output_type": "execute_result"
    }
   ],
   "source": [
    "s2 = s1[['b','a','e']]\n",
    "print(s2)"
   ]
  },
  {
   "cell_type": "code",
   "execution_count": 30,
   "id": "503c81e6",
   "metadata": {},
   "outputs": [
    {
     "data": {
      "text/plain": [
       "a    1\n",
       "b    2\n",
       "c    3\n",
       "d    4\n",
       "e    5\n",
       "dtype: int64"
      ]
     },
     "execution_count": 30,
     "metadata": {},
     "output_type": "execute_result"
    }
   ],
   "source": [
    "s3 = pd.Series([1,2,3,4,5],index=['a','b','c','d','e'])\n",
    "s3"
   ]
  },
  {
   "cell_type": "code",
   "execution_count": 31,
   "id": "23e33ae4",
   "metadata": {},
   "outputs": [
    {
     "name": "stdout",
     "output_type": "stream",
     "text": [
      "1\n",
      "a    1\n",
      "b    2\n",
      "dtype: int64\n"
     ]
    }
   ],
   "source": [
    "# 位置索引就是a,b,c,d,e的下表---0,1,2,3,4\n",
    "# 标签索引a,b,c,d,e\n",
    "print(s3['a'])\n",
    "print(s3[0:2])   # 不包含结束值"
   ]
  },
  {
   "cell_type": "code",
   "execution_count": 32,
   "id": "2a8fd7a7",
   "metadata": {},
   "outputs": [
    {
     "name": "stdout",
     "output_type": "stream",
     "text": [
      "a    1\n",
      "b    2\n",
      "c    3\n",
      "dtype: int64\n",
      "c    3\n",
      "d    4\n",
      "e    5\n",
      "dtype: int64\n"
     ]
    }
   ],
   "source": [
    "print(s3['a':'c'])   # 包含结束值\n",
    "print(s3[-3:])  # 位置索引进行负值切片操作"
   ]
  },
  {
   "cell_type": "code",
   "execution_count": 42,
   "id": "204ebf5f",
   "metadata": {},
   "outputs": [
    {
     "name": "stdout",
     "output_type": "stream",
     "text": [
      "0    0.596159\n",
      "1    0.839747\n",
      "2    0.082035\n",
      "3    0.538716\n",
      "4    0.044496\n",
      "dtype: float64\n",
      "0    0.596159\n",
      "1    0.839747\n",
      "2    0.082035\n",
      "dtype: float64\n"
     ]
    }
   ],
   "source": [
    "s = pd.Series(np.random.rand(15))\n",
    "print(s.head())   # 默认显示前五条数据\n",
    "print(s.head(3))   # 给的数字表示几条"
   ]
  },
  {
   "cell_type": "code",
   "execution_count": 44,
   "id": "12ea817a",
   "metadata": {},
   "outputs": [
    {
     "name": "stdout",
     "output_type": "stream",
     "text": [
      "10    0.044148\n",
      "11    0.676478\n",
      "12    0.626285\n",
      "13    0.351311\n",
      "14    0.230776\n",
      "dtype: float64\n",
      "12    0.626285\n",
      "13    0.351311\n",
      "14    0.230776\n",
      "dtype: float64\n"
     ]
    }
   ],
   "source": [
    "print(s.tail())   # 默认显示前五条数据\n",
    "print(s.tail(3))   # 给的数字表示几条"
   ]
  },
  {
   "cell_type": "code",
   "execution_count": 35,
   "id": "cfa47dad",
   "metadata": {},
   "outputs": [
    {
     "name": "stdout",
     "output_type": "stream",
     "text": [
      "a    0.335834\n",
      "b    0.778573\n",
      "c    0.376172\n",
      "d    0.610695\n",
      "e    0.956534\n",
      "dtype: float64\n",
      "c    0.376172\n",
      "d    0.610695\n",
      "e    0.956534\n",
      "dtype: float64\n"
     ]
    }
   ],
   "source": [
    "s = pd.Series(np.random.rand(5),index=list('abcde'))\n",
    "print(s)\n",
    "s1 = s.reindex(list('cde'))\n",
    "print(s1)"
   ]
  },
  {
   "cell_type": "code",
   "execution_count": 36,
   "id": "8aa3ce0b",
   "metadata": {},
   "outputs": [
    {
     "data": {
      "text/plain": [
       "a    0.335834\n",
       "w         NaN\n",
       "z         NaN\n",
       "dtype: float64"
      ]
     },
     "execution_count": 36,
     "metadata": {},
     "output_type": "execute_result"
    }
   ],
   "source": [
    "s2 = s.reindex(list('awz'))\n",
    "s2"
   ]
  },
  {
   "cell_type": "code",
   "execution_count": 40,
   "id": "8e95107e",
   "metadata": {},
   "outputs": [
    {
     "data": {
      "text/plain": [
       "a     0.335834\n",
       "w    10.000000\n",
       "z    10.000000\n",
       "dtype: float64"
      ]
     },
     "execution_count": 40,
     "metadata": {},
     "output_type": "execute_result"
    }
   ],
   "source": [
    "s3 = s.reindex(list('awz'),fill_value=10)\n",
    "s3"
   ]
  },
  {
   "cell_type": "code",
   "execution_count": null,
   "id": "08d70a26",
   "metadata": {},
   "outputs": [],
   "source": []
  }
 ],
 "metadata": {
  "kernelspec": {
   "display_name": "Python 3 (ipykernel)",
   "language": "python",
   "name": "python3"
  },
  "language_info": {
   "codemirror_mode": {
    "name": "ipython",
    "version": 3
   },
   "file_extension": ".py",
   "mimetype": "text/x-python",
   "name": "python",
   "nbconvert_exporter": "python",
   "pygments_lexer": "ipython3",
   "version": "3.9.12"
  }
 },
 "nbformat": 4,
 "nbformat_minor": 5
}
