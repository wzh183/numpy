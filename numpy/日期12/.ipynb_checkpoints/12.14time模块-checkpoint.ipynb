{
 "cells": [
  {
   "cell_type": "code",
   "execution_count": 49,
   "id": "f3f577f8",
   "metadata": {},
   "outputs": [],
   "source": [
    "import numpy as np\n",
    "import pandas as pd\n",
    "from datetime import *\n",
    "import time\n"
   ]
  },
  {
   "cell_type": "code",
   "execution_count": 50,
   "id": "dbe448e2",
   "metadata": {},
   "outputs": [
    {
     "data": {
      "text/plain": [
       "1671005660.5037715"
      ]
     },
     "execution_count": 50,
     "metadata": {},
     "output_type": "execute_result"
    }
   ],
   "source": [
    "time.time()"
   ]
  },
  {
   "cell_type": "code",
   "execution_count": 51,
   "id": "5b8a01ac",
   "metadata": {},
   "outputs": [
    {
     "data": {
      "text/plain": [
       "1671005661"
      ]
     },
     "execution_count": 51,
     "metadata": {},
     "output_type": "execute_result"
    }
   ],
   "source": [
    "int(time.time())"
   ]
  },
  {
   "cell_type": "code",
   "execution_count": 52,
   "id": "3b143856",
   "metadata": {},
   "outputs": [
    {
     "name": "stdout",
     "output_type": "stream",
     "text": [
      "程序消耗时间= 0.0035295486450195312\n"
     ]
    }
   ],
   "source": [
    "# 程序开始时间\n",
    "start_time = time.time()\n",
    "# 程序\n",
    "s = \"\"\n",
    "for i in range(10000):\n",
    "    s += str(i)\n",
    "end_time = time.time()\n",
    "print(\"程序消耗时间=\",end_time-start_time)\n"
   ]
  },
  {
   "cell_type": "code",
   "execution_count": 53,
   "id": "c5aa243e",
   "metadata": {},
   "outputs": [
    {
     "name": "stdout",
     "output_type": "stream",
     "text": [
      "time.struct_time(tm_year=2022, tm_mon=12, tm_mday=14, tm_hour=16, tm_min=14, tm_sec=23, tm_wday=2, tm_yday=348, tm_isdst=0)\n",
      "2022 年 12 月 14 日\n"
     ]
    }
   ],
   "source": [
    "#生成struct_time\n",
    "# timestamp to struct_time 本地时间\n",
    "print(time.localtime())\n",
    "print(time.localtime().tm_year,'年',time.localtime().tm_mon,'月',time.localtime().tm_mday,'日')\n"
   ]
  },
  {
   "cell_type": "code",
   "execution_count": 54,
   "id": "6164523f",
   "metadata": {},
   "outputs": [
    {
     "data": {
      "text/plain": [
       "time.struct_time(tm_year=2022, tm_mon=12, tm_mday=14, tm_hour=15, tm_min=50, tm_sec=25, tm_wday=2, tm_yday=348, tm_isdst=0)"
      ]
     },
     "execution_count": 54,
     "metadata": {},
     "output_type": "execute_result"
    }
   ],
   "source": [
    "time.localtime(1671004225)"
   ]
  },
  {
   "cell_type": "code",
   "execution_count": 55,
   "id": "5991b798",
   "metadata": {},
   "outputs": [
    {
     "data": {
      "text/plain": [
       "time.struct_time(tm_year=2011, tm_mon=5, tm_mday=5, tm_hour=16, tm_min=37, tm_sec=6, tm_wday=3, tm_yday=125, tm_isdst=-1)"
      ]
     },
     "execution_count": 55,
     "metadata": {},
     "output_type": "execute_result"
    }
   ],
   "source": [
    "#格式化字符串到 struct_time\n",
    "time.strptime('2011-05-05 16:37:06', '%Y-%m-%d %X')"
   ]
  },
  {
   "cell_type": "code",
   "execution_count": 56,
   "id": "0e9ead09",
   "metadata": {},
   "outputs": [
    {
     "data": {
      "text/plain": [
       "'2022年-12月-14日 16时14分24秒'"
      ]
     },
     "execution_count": 56,
     "metadata": {},
     "output_type": "execute_result"
    }
   ],
   "source": [
    "time.strftime(\"%Y年-%m月-%d日 %H时%M分%S秒\")"
   ]
  },
  {
   "cell_type": "code",
   "execution_count": 57,
   "id": "656ccb2e",
   "metadata": {},
   "outputs": [
    {
     "name": "stdout",
     "output_type": "stream",
     "text": [
      " 发射!!!!\n"
     ]
    }
   ],
   "source": [
    "# 倒计时\n",
    "for i in range(5):\n",
    "    print('\\r',' %s 秒！' % (5-i), end='')\n",
    "    # 暂停1s后运行\n",
    "    time.sleep(1)\n",
    "print('\\r',\"发射!!!!\")\n"
   ]
  },
  {
   "cell_type": "code",
   "execution_count": 62,
   "id": "71e8751b",
   "metadata": {},
   "outputs": [
    {
     "name": "stdout",
     "output_type": "stream",
     "text": [
      "data.today() 2022-12-14\n"
     ]
    }
   ],
   "source": [
    "print('data.today()',date.today())"
   ]
  },
  {
   "cell_type": "code",
   "execution_count": 63,
   "id": "04c74298",
   "metadata": {},
   "outputs": [
    {
     "name": "stdout",
     "output_type": "stream",
     "text": [
      "date.fromtimestamp(): 2022-12-14\n"
     ]
    }
   ],
   "source": [
    "print('date.fromtimestamp():', date.fromtimestamp(time.time()))\n"
   ]
  },
  {
   "cell_type": "code",
   "execution_count": 67,
   "id": "f159f91d",
   "metadata": {},
   "outputs": [
    {
     "name": "stdout",
     "output_type": "stream",
     "text": [
      "2022-12-14 16:37:38.157201\n",
      "2022-12-13 16:37:38.157201\n",
      "<class 'datetime.timedelta'> 1 day, 0:00:00\n",
      "1 86400.0\n"
     ]
    }
   ],
   "source": [
    "dt = datetime.now()\n",
    "print(dt)\n",
    "dt_1 = dt + timedelta(days=-1)#昨天\n",
    "print(dt_1)\n",
    "dt_11 = dt - timedelta(days=1)#昨天\n",
    "dt3 = dt + timedelta(days=1)#明天\n",
    "delta_obj = dt3-dt\n",
    "print(type(delta_obj),delta_obj)#<type 'datetime.timedelta'> 1\n",
    "# day, 0:00:00\n",
    "# total_seconds():返回在该时间实例的给定持续时间内覆盖的总秒数\n",
    "print(delta_obj.days ,delta_obj.total_seconds())#1 86400.0"
   ]
  },
  {
   "cell_type": "code",
   "execution_count": null,
   "id": "88c2abb4",
   "metadata": {},
   "outputs": [],
   "source": []
  }
 ],
 "metadata": {
  "kernelspec": {
   "display_name": "Python 3 (ipykernel)",
   "language": "python",
   "name": "python3"
  },
  "language_info": {
   "codemirror_mode": {
    "name": "ipython",
    "version": 3
   },
   "file_extension": ".py",
   "mimetype": "text/x-python",
   "name": "python",
   "nbconvert_exporter": "python",
   "pygments_lexer": "ipython3",
   "version": "3.9.12"
  }
 },
 "nbformat": 4,
 "nbformat_minor": 5
}
