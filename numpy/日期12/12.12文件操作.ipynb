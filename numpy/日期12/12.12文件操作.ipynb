{
 "cells": [
  {
   "cell_type": "code",
   "execution_count": null,
   "id": "ea0f5b65",
   "metadata": {},
   "outputs": [],
   "source": [
    "import numpy as np\n",
    "import pandas as pd"
   ]
  },
  {
   "cell_type": "code",
   "execution_count": null,
   "id": "19165f1f",
   "metadata": {},
   "outputs": [],
   "source": [
    "def xysz(x):\n",
    "    x = str(x)\n",
    "    y = 0\n",
    "    for i in x:\n",
    "        y += int(i)  # 任何9的倍数,各位数的和也是9的倍数\n",
    "    a = 9 - y % 9\n",
    "    if a == 9:\n",
    "        print(\"对方的幸运数字是0或9\")\n",
    "    else:\n",
    "        print(\"对方的幸运数字是:\", a)\n",
    "\n",
    "\n",
    "xysz(233076)  # 传入对方剩下的数字"
   ]
  },
  {
   "cell_type": "code",
   "execution_count": null,
   "id": "58b68edf",
   "metadata": {},
   "outputs": [],
   "source": [
    "df = pd.read_csv(r\"C:\\Users\\18354\\日期12\\students_step2.csv\",encoding='gbk',sep='|')\n",
    "df"
   ]
  },
  {
   "cell_type": "code",
   "execution_count": null,
   "id": "3de3b0a9",
   "metadata": {},
   "outputs": [],
   "source": [
    "df = pd.read_csv(r\"C:\\Users\\18354\\日期12\\students_whitespace.txt\",sep=' ')\n",
    "df"
   ]
  },
  {
   "cell_type": "code",
   "execution_count": null,
   "id": "dec834b6",
   "metadata": {},
   "outputs": [],
   "source": [
    "df = pd.read_csv(r\"C:\\Users\\18354\\日期12\\students_whitespace.txt\",delim_whitespace=True)\n",
    "df"
   ]
  },
  {
   "cell_type": "code",
   "execution_count": null,
   "id": "7d3dc68a",
   "metadata": {},
   "outputs": [],
   "source": [
    "# 默认header=0 会选取文件的第一行为列名(表头)\n",
    "pd.read_csv(r\"C:\\Users\\18354\\日期12\\students2.csv\",encoding='gbk')\n",
    "df"
   ]
  },
  {
   "cell_type": "code",
   "execution_count": null,
   "id": "d5b2dd0d",
   "metadata": {},
   "outputs": [],
   "source": [
    "# header=1 选取第二行作为表头(索引从0开始)\n",
    "df = pd.read_csv(r\"C:\\Users\\18354\\日期12\\students2.csv\",encoding='gbk',header=1)\n",
    "df"
   ]
  },
  {
   "cell_type": "code",
   "execution_count": null,
   "id": "20af366d",
   "metadata": {},
   "outputs": [],
   "source": [
    "# header=None,给自己手动指定表头\n",
    "df = pd.read_csv(r\"C:\\Users\\18354\\日期12\\students2.csv\",encoding='gbk',names=['编号','姓名','地址','性别','出生日期'])\n",
    "df"
   ]
  },
  {
   "cell_type": "code",
   "execution_count": null,
   "id": "afc8b2db",
   "metadata": {},
   "outputs": [],
   "source": [
    "df = pd.read_csv(r\"C:\\Users\\18354\\日期12\\students2.csv\",encoding='gbk',names=['编号','姓名','地址','性别','出生日期'],header=1)\n",
    "df"
   ]
  },
  {
   "cell_type": "code",
   "execution_count": null,
   "id": "b79173be",
   "metadata": {},
   "outputs": [],
   "source": [
    "# 要把birthday当作索引\n",
    "df = pd.read_csv(r\"C:\\Users\\18354\\日期12\\students2.csv\",encoding='gbk',index_col='birthday')\n",
    "df "
   ]
  },
  {
   "cell_type": "code",
   "execution_count": null,
   "id": "4ab2e6f7",
   "metadata": {},
   "outputs": [],
   "source": [
    "# 时间类型转化\n",
    "df.index = pd.to_datetime(df.index)\n",
    "df.index\n",
    "df"
   ]
  },
  {
   "cell_type": "code",
   "execution_count": null,
   "id": "2029f89d",
   "metadata": {},
   "outputs": [],
   "source": [
    "# 要把birthday当作索引\n",
    "df = pd.read_csv(r\"C:\\Users\\18354\\日期12\\students2.csv\",encoding='gbk',index_col=['gender','birthday'])\n",
    "df "
   ]
  },
  {
   "cell_type": "code",
   "execution_count": null,
   "id": "9bfa8166",
   "metadata": {},
   "outputs": [],
   "source": [
    "print(df.loc['女','2003/8/7'])\n",
    "df.sort_index(inplace=True)\n",
    "print(df)"
   ]
  },
  {
   "cell_type": "code",
   "execution_count": null,
   "id": "4ce36d30",
   "metadata": {},
   "outputs": [],
   "source": [
    "df = pd.read_csv(r\"C:\\Users\\18354\\日期12\\students2.csv\",encoding='gbk')\n",
    "df"
   ]
  },
  {
   "cell_type": "code",
   "execution_count": null,
   "id": "3639c28d",
   "metadata": {},
   "outputs": [],
   "source": [
    "df1 = pd.read_csv(r\"C:\\Users\\18354\\日期12\\students2.csv\",encoding='gbk',dtype={'id':str,'name':str})\n",
    "df1['name']"
   ]
  },
  {
   "cell_type": "code",
   "execution_count": null,
   "id": "76209c41",
   "metadata": {},
   "outputs": [],
   "source": []
  },
  {
   "cell_type": "code",
   "execution_count": null,
   "id": "36872fc7",
   "metadata": {},
   "outputs": [],
   "source": []
  }
 ],
 "metadata": {
  "kernelspec": {
   "display_name": "Python 3 (ipykernel)",
   "language": "python",
   "name": "python3"
  },
  "language_info": {
   "codemirror_mode": {
    "name": "ipython",
    "version": 3
   },
   "file_extension": ".py",
   "mimetype": "text/x-python",
   "name": "python",
   "nbconvert_exporter": "python",
   "pygments_lexer": "ipython3",
   "version": "3.9.12"
  }
 },
 "nbformat": 4,
 "nbformat_minor": 5
}
