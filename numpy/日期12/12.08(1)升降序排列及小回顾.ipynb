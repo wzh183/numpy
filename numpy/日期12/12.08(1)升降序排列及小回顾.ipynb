{
 "cells": [
  {
   "cell_type": "code",
   "execution_count": 1,
   "id": "2f4d4685",
   "metadata": {},
   "outputs": [],
   "source": [
    "import numpy as np\n",
    "import pandas as pd"
   ]
  },
  {
   "cell_type": "code",
   "execution_count": 3,
   "id": "9da81061",
   "metadata": {},
   "outputs": [
    {
     "data": {
      "text/html": [
       "<div>\n",
       "<style scoped>\n",
       "    .dataframe tbody tr th:only-of-type {\n",
       "        vertical-align: middle;\n",
       "    }\n",
       "\n",
       "    .dataframe tbody tr th {\n",
       "        vertical-align: top;\n",
       "    }\n",
       "\n",
       "    .dataframe thead th {\n",
       "        text-align: right;\n",
       "    }\n",
       "</style>\n",
       "<table border=\"1\" class=\"dataframe\">\n",
       "  <thead>\n",
       "    <tr style=\"text-align: right;\">\n",
       "      <th></th>\n",
       "      <th>b</th>\n",
       "      <th>c</th>\n",
       "      <th>a</th>\n",
       "    </tr>\n",
       "  </thead>\n",
       "  <tbody>\n",
       "    <tr>\n",
       "      <th>3</th>\n",
       "      <td>1</td>\n",
       "      <td>2</td>\n",
       "      <td>4</td>\n",
       "    </tr>\n",
       "    <tr>\n",
       "      <th>1</th>\n",
       "      <td>3</td>\n",
       "      <td>3</td>\n",
       "      <td>1</td>\n",
       "    </tr>\n",
       "    <tr>\n",
       "      <th>0</th>\n",
       "      <td>4</td>\n",
       "      <td>4</td>\n",
       "      <td>2</td>\n",
       "    </tr>\n",
       "    <tr>\n",
       "      <th>2</th>\n",
       "      <td>2</td>\n",
       "      <td>1</td>\n",
       "      <td>3</td>\n",
       "    </tr>\n",
       "  </tbody>\n",
       "</table>\n",
       "</div>"
      ],
      "text/plain": [
       "   b  c  a\n",
       "3  1  2  4\n",
       "1  3  3  1\n",
       "0  4  4  2\n",
       "2  2  1  3"
      ]
     },
     "execution_count": 3,
     "metadata": {},
     "output_type": "execute_result"
    }
   ],
   "source": [
    "df = pd.DataFrame({'b':[1,3,4,2],'c':[2,3,4,1],'a':[4,1,2,3]},index=[3,1,0,2])\n",
    "df"
   ]
  },
  {
   "cell_type": "code",
   "execution_count": 4,
   "id": "b64040a4",
   "metadata": {},
   "outputs": [
    {
     "data": {
      "text/html": [
       "<div>\n",
       "<style scoped>\n",
       "    .dataframe tbody tr th:only-of-type {\n",
       "        vertical-align: middle;\n",
       "    }\n",
       "\n",
       "    .dataframe tbody tr th {\n",
       "        vertical-align: top;\n",
       "    }\n",
       "\n",
       "    .dataframe thead th {\n",
       "        text-align: right;\n",
       "    }\n",
       "</style>\n",
       "<table border=\"1\" class=\"dataframe\">\n",
       "  <thead>\n",
       "    <tr style=\"text-align: right;\">\n",
       "      <th></th>\n",
       "      <th>b</th>\n",
       "      <th>c</th>\n",
       "      <th>a</th>\n",
       "    </tr>\n",
       "  </thead>\n",
       "  <tbody>\n",
       "    <tr>\n",
       "      <th>3</th>\n",
       "      <td>1</td>\n",
       "      <td>2</td>\n",
       "      <td>4</td>\n",
       "    </tr>\n",
       "    <tr>\n",
       "      <th>2</th>\n",
       "      <td>2</td>\n",
       "      <td>1</td>\n",
       "      <td>3</td>\n",
       "    </tr>\n",
       "    <tr>\n",
       "      <th>1</th>\n",
       "      <td>3</td>\n",
       "      <td>3</td>\n",
       "      <td>1</td>\n",
       "    </tr>\n",
       "    <tr>\n",
       "      <th>0</th>\n",
       "      <td>4</td>\n",
       "      <td>4</td>\n",
       "      <td>2</td>\n",
       "    </tr>\n",
       "  </tbody>\n",
       "</table>\n",
       "</div>"
      ],
      "text/plain": [
       "   b  c  a\n",
       "3  1  2  4\n",
       "2  2  1  3\n",
       "1  3  3  1\n",
       "0  4  4  2"
      ]
     },
     "execution_count": 4,
     "metadata": {},
     "output_type": "execute_result"
    }
   ],
   "source": [
    "# b列升序排列\n",
    "df1 = df.sort_values(by='b')\n",
    "df1"
   ]
  },
  {
   "cell_type": "code",
   "execution_count": 6,
   "id": "89761970",
   "metadata": {},
   "outputs": [
    {
     "data": {
      "text/html": [
       "<div>\n",
       "<style scoped>\n",
       "    .dataframe tbody tr th:only-of-type {\n",
       "        vertical-align: middle;\n",
       "    }\n",
       "\n",
       "    .dataframe tbody tr th {\n",
       "        vertical-align: top;\n",
       "    }\n",
       "\n",
       "    .dataframe thead th {\n",
       "        text-align: right;\n",
       "    }\n",
       "</style>\n",
       "<table border=\"1\" class=\"dataframe\">\n",
       "  <thead>\n",
       "    <tr style=\"text-align: right;\">\n",
       "      <th></th>\n",
       "      <th>b</th>\n",
       "      <th>c</th>\n",
       "      <th>a</th>\n",
       "    </tr>\n",
       "  </thead>\n",
       "  <tbody>\n",
       "    <tr>\n",
       "      <th>3</th>\n",
       "      <td>1</td>\n",
       "      <td>2</td>\n",
       "      <td>4</td>\n",
       "    </tr>\n",
       "    <tr>\n",
       "      <th>2</th>\n",
       "      <td>2</td>\n",
       "      <td>1</td>\n",
       "      <td>3</td>\n",
       "    </tr>\n",
       "    <tr>\n",
       "      <th>1</th>\n",
       "      <td>3</td>\n",
       "      <td>3</td>\n",
       "      <td>1</td>\n",
       "    </tr>\n",
       "    <tr>\n",
       "      <th>0</th>\n",
       "      <td>4</td>\n",
       "      <td>4</td>\n",
       "      <td>2</td>\n",
       "    </tr>\n",
       "  </tbody>\n",
       "</table>\n",
       "</div>"
      ],
      "text/plain": [
       "   b  c  a\n",
       "3  1  2  4\n",
       "2  2  1  3\n",
       "1  3  3  1\n",
       "0  4  4  2"
      ]
     },
     "execution_count": 6,
     "metadata": {},
     "output_type": "execute_result"
    }
   ],
   "source": [
    "# 先俺b列升序再按a列降序\n",
    "df1 = df.sort_values(by=['b','a'],ascending=[True,False])\n",
    "df1"
   ]
  },
  {
   "cell_type": "code",
   "execution_count": 7,
   "id": "08762d37",
   "metadata": {},
   "outputs": [
    {
     "data": {
      "text/html": [
       "<div>\n",
       "<style scoped>\n",
       "    .dataframe tbody tr th:only-of-type {\n",
       "        vertical-align: middle;\n",
       "    }\n",
       "\n",
       "    .dataframe tbody tr th {\n",
       "        vertical-align: top;\n",
       "    }\n",
       "\n",
       "    .dataframe thead th {\n",
       "        text-align: right;\n",
       "    }\n",
       "</style>\n",
       "<table border=\"1\" class=\"dataframe\">\n",
       "  <thead>\n",
       "    <tr style=\"text-align: right;\">\n",
       "      <th></th>\n",
       "      <th>b</th>\n",
       "      <th>c</th>\n",
       "      <th>a</th>\n",
       "    </tr>\n",
       "  </thead>\n",
       "  <tbody>\n",
       "    <tr>\n",
       "      <th>3</th>\n",
       "      <td>1</td>\n",
       "      <td>2</td>\n",
       "      <td>4</td>\n",
       "    </tr>\n",
       "    <tr>\n",
       "      <th>1</th>\n",
       "      <td>3</td>\n",
       "      <td>3</td>\n",
       "      <td>1</td>\n",
       "    </tr>\n",
       "    <tr>\n",
       "      <th>0</th>\n",
       "      <td>4</td>\n",
       "      <td>4</td>\n",
       "      <td>2</td>\n",
       "    </tr>\n",
       "    <tr>\n",
       "      <th>2</th>\n",
       "      <td>2</td>\n",
       "      <td>1</td>\n",
       "      <td>3</td>\n",
       "    </tr>\n",
       "  </tbody>\n",
       "</table>\n",
       "</div>"
      ],
      "text/plain": [
       "   b  c  a\n",
       "3  1  2  4\n",
       "1  3  3  1\n",
       "0  4  4  2\n",
       "2  2  1  3"
      ]
     },
     "execution_count": 7,
     "metadata": {},
     "output_type": "execute_result"
    }
   ],
   "source": [
    "# 按行3升序\n",
    "df1 = df.sort_values(by=3,axis=1)\n",
    "df1"
   ]
  },
  {
   "cell_type": "code",
   "execution_count": 10,
   "id": "85d28a23",
   "metadata": {},
   "outputs": [
    {
     "data": {
      "text/html": [
       "<div>\n",
       "<style scoped>\n",
       "    .dataframe tbody tr th:only-of-type {\n",
       "        vertical-align: middle;\n",
       "    }\n",
       "\n",
       "    .dataframe tbody tr th {\n",
       "        vertical-align: top;\n",
       "    }\n",
       "\n",
       "    .dataframe thead th {\n",
       "        text-align: right;\n",
       "    }\n",
       "</style>\n",
       "<table border=\"1\" class=\"dataframe\">\n",
       "  <thead>\n",
       "    <tr style=\"text-align: right;\">\n",
       "      <th></th>\n",
       "      <th>b</th>\n",
       "      <th>c</th>\n",
       "      <th>a</th>\n",
       "    </tr>\n",
       "  </thead>\n",
       "  <tbody>\n",
       "    <tr>\n",
       "      <th>3</th>\n",
       "      <td>1</td>\n",
       "      <td>2</td>\n",
       "      <td>4</td>\n",
       "    </tr>\n",
       "    <tr>\n",
       "      <th>1</th>\n",
       "      <td>3</td>\n",
       "      <td>3</td>\n",
       "      <td>1</td>\n",
       "    </tr>\n",
       "    <tr>\n",
       "      <th>0</th>\n",
       "      <td>4</td>\n",
       "      <td>4</td>\n",
       "      <td>2</td>\n",
       "    </tr>\n",
       "    <tr>\n",
       "      <th>2</th>\n",
       "      <td>2</td>\n",
       "      <td>1</td>\n",
       "      <td>3</td>\n",
       "    </tr>\n",
       "  </tbody>\n",
       "</table>\n",
       "</div>"
      ],
      "text/plain": [
       "   b  c  a\n",
       "3  1  2  4\n",
       "1  3  3  1\n",
       "0  4  4  2\n",
       "2  2  1  3"
      ]
     },
     "execution_count": 10,
     "metadata": {},
     "output_type": "execute_result"
    }
   ],
   "source": [
    "# 按行3升序,行1降序排列\n",
    "df1 = df.sort_values(by=[3,1],axis=1,ascending=[True,False])\n",
    "df1"
   ]
  },
  {
   "cell_type": "code",
   "execution_count": 18,
   "id": "d38340e4",
   "metadata": {},
   "outputs": [
    {
     "name": "stdout",
     "output_type": "stream",
     "text": [
      "   four  one  whree  two\n",
      "a     1    3      2    4\n",
      "b     2    3      5    4\n",
      "c     5    6      8    7\n",
      "d     3    2      5    6\n",
      "e     9    3      5    1\n"
     ]
    }
   ],
   "source": [
    "# 列表\n",
    "data = [[1,3,2,4],[2,3,5,4],[5,6,8,7],[3,2,5,6],[9,3,5,1]]\n",
    "columns = ['four','one','whree','two']\n",
    "index = ['a','b','c','d','e']\n",
    "df = pd.DataFrame(data,index=index,columns=columns)\n",
    "print(df)"
   ]
  },
  {
   "cell_type": "code",
   "execution_count": 32,
   "id": "33605531",
   "metadata": {},
   "outputs": [
    {
     "name": "stdout",
     "output_type": "stream",
     "text": [
      "   four  one  three  two\n",
      "a     1    2      5    3\n",
      "b     3    3      6    2\n",
      "c     2    5      8    5\n",
      "d     4    4      7    6\n",
      "e     1    6      9    2\n"
     ]
    }
   ],
   "source": [
    "# 使用 ndarrays 创建\n",
    "data = {'four':[1,3,2,4,1],'one':[2,3,5,4,6],'three':[5,6,8,7,9],'two':[3,2,5,6,2]}\n",
    "index = ['a','b','c','d','e']\n",
    "df = pd.DataFrame(data,index=index)\n",
    "print(df)"
   ]
  },
  {
   "cell_type": "code",
   "execution_count": 36,
   "id": "c585468c",
   "metadata": {},
   "outputs": [
    {
     "name": "stdout",
     "output_type": "stream",
     "text": [
      "   four  one  three  two\n",
      "a     2    4      1    8\n",
      "b     4    7      6    8\n",
      "c     0    1      3    7\n",
      "d     2    1      8    3\n",
      "e     2    1      8    3\n"
     ]
    }
   ],
   "source": [
    "# 字典\n",
    "data = [{'four':2,'one':4,'three':1,'two':8},{'four':4,'one':7,'three':6,'two':8},{'four':0,'one':1,'three':3,'two':7},{'four':2,'one':1,'three':8,'two':3},{'four':2,'one':1,'three':8,'two':3}]\n",
    "index = ['a','b','c','d','e']\n",
    "df = pd.DataFrame(data,index=index)\n",
    "print (df)"
   ]
  },
  {
   "cell_type": "code",
   "execution_count": 46,
   "id": "77a4ff3d",
   "metadata": {},
   "outputs": [
    {
     "name": "stdout",
     "output_type": "stream",
     "text": [
      "   four  one  whree  two\n",
      "a    79    5     83   73\n",
      "b     4   73     41   15\n",
      "c    43   69      8   67\n",
      "d    82   58     40   96\n"
     ]
    }
   ],
   "source": [
    "data = np.random.randint(0,100,size=(4,4))\n",
    "index = ['a','b','c','d']\n",
    "columns = ['four','one','whree','two']\n",
    "df = pd.DataFrame(data,index=index,columns=columns)\n",
    "print(df)"
   ]
  },
  {
   "cell_type": "code",
   "execution_count": 9,
   "id": "ec9a01c5",
   "metadata": {},
   "outputs": [
    {
     "name": "stdout",
     "output_type": "stream",
     "text": [
      "        four        one      whree        two\n",
      "a  34.479179  39.143400  73.197949  90.393889\n",
      "b  55.779665  53.586864  20.630890  64.626051\n",
      "c  58.778884  37.957795  39.662449  69.656840\n",
      "d   4.711459  96.180687  85.960515  98.849905\n"
     ]
    }
   ],
   "source": [
    "a = np.random.randint(0, 100, 16)\n",
    "b = np.random.rand(16)\n",
    "c = a+b\n",
    "data = np.array(c).reshape(4,4)\n",
    "index = ['a','b','c','d']\n",
    "columns = ['four','one','whree','two']\n",
    "df = pd.DataFrame(data,index=index,columns=columns)\n",
    "print(df)\n",
    "# print(d)"
   ]
  },
  {
   "cell_type": "code",
   "execution_count": 3,
   "id": "ce8d6fd0",
   "metadata": {},
   "outputs": [
    {
     "name": "stdout",
     "output_type": "stream",
     "text": [
      "               a          b          c          d\n",
      "four   89.195677  56.992639  97.502652   2.410479\n",
      "one    63.793891  14.133302  17.454519  25.337392\n",
      "whree  59.206486  86.873835  23.550506  89.836456\n",
      "two    97.080416  10.208420  13.429734  69.878656\n",
      "               b          c\n",
      "four   56.992639  97.502652\n",
      "one    14.133302  17.454519\n",
      "whree  86.873835  23.550506\n",
      "two    10.208420  13.429734\n",
      "               a          b          c          d\n",
      "whree  59.206486  86.873835  23.550506  89.836456\n",
      "two    97.080416  10.208420  13.429734  69.878656\n",
      "             a          b          c          d\n",
      "two  97.080416  10.208420  13.429734  69.878656\n",
      "one  63.793891  14.133302  17.454519  25.337392\n",
      "               a          b          c          d\n",
      "four   89.195677  56.992639  97.502652        NaN\n",
      "one    63.793891        NaN        NaN        NaN\n",
      "whree  59.206486  86.873835        NaN  89.836456\n",
      "two    97.080416        NaN        NaN  69.878656\n"
     ]
    }
   ],
   "source": [
    "aa = pd.DataFrame(np.array(np.random.rand(16)*100).reshape(4,4),index=['four','one','whree','two'],columns=['a','b','c','d'])\n",
    "print(aa)\n",
    "# b,c所有值\n",
    "print(aa[['b','c']])\n",
    "# 索引取得3,4行的数据\n",
    "print(aa.iloc[2:])\n",
    "# 按序\n",
    "print(aa.loc[['two','one']])\n",
    "# 索引取得大于50值\n",
    "print(aa[aa>50])\n"
   ]
  },
  {
   "cell_type": "code",
   "execution_count": 7,
   "id": "fdfe416d",
   "metadata": {},
   "outputs": [
    {
     "name": "stdout",
     "output_type": "stream",
     "text": [
      "          v1         v2         v3\n",
      "a  87.091604  10.627202  41.609081\n",
      "b  91.373995   3.577310  50.499218\n",
      "c  58.409456  26.929401  25.459922\n",
      "          v1         v2         v3\n",
      "c  58.409456  26.929401  25.459922\n",
      "b  91.373995   3.577310  50.499218\n",
      "a  87.091604  10.627202  41.609081\n",
      "          v1         v2         v3\n",
      "c  58.409456  26.929401  25.459922\n",
      "a  87.091604  10.627202  41.609081\n",
      "b  91.373995   3.577310  50.499218\n"
     ]
    }
   ],
   "source": [
    "aaa = pd.DataFrame(np.array(np.random.rand(9)*100).reshape(3,3),\n",
    "                       index=['a','b','c'],\n",
    "                       columns=['v1','v2','v3'])\n",
    "print(aaa)\n",
    "print(aaa.sort_index(ascending=False))\n",
    "print(aaa.sort_values('v2',ascending=False))"
   ]
  },
  {
   "cell_type": "code",
   "execution_count": 3,
   "id": "c3587a6e",
   "metadata": {},
   "outputs": [
    {
     "name": "stdout",
     "output_type": "stream",
     "text": [
      "https://www.ku6.com/video/detail?id=udfY7DjsSXbg8ghbDnhUwNTinOY.\n",
      "video_1 https://rbv01.ku6.com/wifi/o_1ej9q59hk1rpe7hm9os1v9v1btna\n"
     ]
    }
   ],
   "source": [
    "# ！/usr/bin/python3\n",
    "# -*- coding: utf-8 -*-\n",
    "import re\n",
    "from lxml import etree\n",
    "import requests\n",
    "import time\n",
    "from tqdm import tqdm\n",
    "import os\n",
    "from urllib.request import urlopen\n",
    "\n",
    "\n",
    "def download_from_url(url, dst):\n",
    "    \"\"\"\n",
    "    @param: url to download file\n",
    "    @param: dst place to put the file\n",
    "    :return: bool\n",
    "    \"\"\"\n",
    "    # 获取文件长度\n",
    "    try:\n",
    "        file_size = int(urlopen(url).info().get('Content-Length', -1))\n",
    "    except Exception as e:\n",
    "        print(e)\n",
    "        print(\"错误，访问url: %s 异常\" % url)\n",
    "        return False\n",
    "\n",
    "    # print(\"file_size\",file_size)\n",
    "    # 判断本地文件存在时\n",
    "    if os.path.exists(dst):\n",
    "        # 获取文件大小\n",
    "        first_byte = os.path.getsize(dst)\n",
    "    else:\n",
    "        # 初始大小为0\n",
    "        first_byte = 0\n",
    "\n",
    "    # 判断大小一致，表示本地文件存在\n",
    "    if first_byte >= file_size:\n",
    "        print(\"文件已经存在,无需下载\")\n",
    "        return file_size\n",
    "\n",
    "    header = {\"Range\": \"bytes=%s-%s\" % (first_byte, file_size)}\n",
    "\n",
    "    pbar = tqdm(\n",
    "        total=file_size, initial=first_byte,\n",
    "        unit='B', unit_scale=True, desc=url.split('/')[-1])\n",
    "\n",
    "    # 访问url进行下载\n",
    "    req = requests.get(url, headers=header, stream=True)\n",
    "    try:\n",
    "        with(open(dst, 'ab')) as f:\n",
    "            for chunk in req.iter_content(chunk_size=1024):\n",
    "                if chunk:\n",
    "                    f.write(chunk)\n",
    "                    pbar.update(1024)\n",
    "    except Exception as e:\n",
    "        print(e)\n",
    "        return False\n",
    "\n",
    "    pbar.close()\n",
    "    return True\n",
    "\n",
    "\n",
    "def DownloadFile(url, name):\n",
    "    \"\"\"\n",
    "    下载文件\n",
    "    :param url:\n",
    "    :param name:\n",
    "    :return:\n",
    "    \"\"\"\n",
    "    try:\n",
    "        resp = requests.get(url=url, stream=True)\n",
    "        content_size = int(resp.headers['Content-Length']) / 1024\n",
    "        with open(name, \"wb\") as f:\n",
    "            print(\"package total size is:\", content_size, 'k,start...')\n",
    "            for data in tqdm(iterable=resp.iter_content(1024), total=content_size, unit='k', desc=name):\n",
    "                f.write(data)\n",
    "\n",
    "        print(\"%s 下载成功\" % url)\n",
    "        return True\n",
    "    except Exception as e:\n",
    "        print(e)\n",
    "        print(\"%s 下载失败\" % url)\n",
    "        return False\n",
    "\n",
    "\n",
    "# 头部\n",
    "headers = {\n",
    "    'User-Agent': 'Mozilla/5.0 (Windows NT 10.0; Win64; x64) AppleWebKit/537.36 (KHTML, like Gecko) Chrome/85.0.4183.121 Safari/537.36'\n",
    "}\n",
    "\n",
    "# 访问页面\n",
    "response = requests.get('https://www.ku6.com/detail/371', headers=headers)\n",
    "data = response.text\n",
    "\n",
    "# 构造了一个XPath解析对象并对HTML文本进行自动修正\n",
    "html = etree.HTML(data)\n",
    "# 获取视频播放链接\n",
    "html_data = html.xpath('//div[@class=\"r_box\"]/ul/li//a/@href')\n",
    "# print(\"html_data\", html_data, type(html_data))\n",
    "\n",
    "# 遍历url\n",
    "for i in html_data:\n",
    "    url = \"https://www.ku6.com%s\" % i\n",
    "    print(url)\n",
    "\n",
    "    # 访问url\n",
    "    response_1 = requests.get(url, headers=headers)\n",
    "    data_1 = response_1.text\n",
    "    # 正则匹配视频地址\n",
    "    video = re.findall('type: \"video/mp4\", src: \"(.*?)\"', data_1)\n",
    "    video_1 = video[0]\n",
    "    print(\"video_1\", video_1)\n",
    "    x = video_1.split('/')[-1]\n",
    "\n",
    "#     # 本地保存视频文件名\n",
    "#     name = f'{x}.mp4'\n",
    "#     print(\"name\", name)\n",
    "\n",
    "#     # 下载视频\n",
    "#     download_from_url(video_1, name)\n",
    "\n",
    "#     # 这里只演示第一个视频，直接break\n",
    "    break\n"
   ]
  },
  {
   "cell_type": "code",
   "execution_count": null,
   "id": "d1c11bf3",
   "metadata": {},
   "outputs": [],
   "source": []
  }
 ],
 "metadata": {
  "kernelspec": {
   "display_name": "Python 3 (ipykernel)",
   "language": "python",
   "name": "python3"
  },
  "language_info": {
   "codemirror_mode": {
    "name": "ipython",
    "version": 3
   },
   "file_extension": ".py",
   "mimetype": "text/x-python",
   "name": "python",
   "nbconvert_exporter": "python",
   "pygments_lexer": "ipython3",
   "version": "3.9.12"
  }
 },
 "nbformat": 4,
 "nbformat_minor": 5
}
